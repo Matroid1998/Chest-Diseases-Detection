{
  "nbformat": 4,
  "nbformat_minor": 0,
  "metadata": {
    "colab": {
      "provenance": [],
      "machine_shape": "hm"
    },
    "kernelspec": {
      "name": "python3",
      "display_name": "Python 3"
    },
    "language_info": {
      "name": "python"
    },
    "accelerator": "GPU",
    "gpuClass": "standard"
  },
  "cells": [
    {
      "cell_type": "code",
      "execution_count": null,
      "metadata": {
        "id": "5FJWweFpxmSb"
      },
      "outputs": [],
      "source": [
        "from glob import glob\n",
        "import cv2\n",
        "import numpy as np\n",
        "from keras.applications.densenet import DenseNet169\n",
        "from sklearn.model_selection import cross_validate, KFold, cross_val_predict, train_test_split\n",
        "import tensorflow as tf\n",
        "from tensorflow import keras"
      ]
    },
    {
      "cell_type": "code",
      "source": [
        "from google.colab import drive\n",
        "drive.mount('/content/drive')"
      ],
      "metadata": {
        "colab": {
          "base_uri": "https://localhost:8080/"
        },
        "id": "k96Ykg80xwbt",
        "outputId": "c11cbde1-794e-4f9a-b45b-a4562cc4ca29"
      },
      "execution_count": null,
      "outputs": [
        {
          "output_type": "stream",
          "name": "stdout",
          "text": [
            "Mounted at /content/drive\n"
          ]
        }
      ]
    },
    {
      "cell_type": "code",
      "source": [
        "images_path = {}\n",
        "images_path[\"Covid\"] = glob(\"/content/drive/MyDrive/X-Ray Image DataSet/Covid-19/*.png\")\n",
        "images_path[\"Covid\"] += glob(\"/content/drive/MyDrive/X-Ray Image DataSet/Covid-19/*.jpeg\")\n",
        "images_path[\"Covid\"] += glob(\"/content/drive/MyDrive/X-Ray Image DataSet/Covid-19/*.jpg\")\n",
        "\n",
        "images_path[\"NoFindings\"] = glob(\"/content/drive/MyDrive/X-Ray Image DataSet/No_findings/*.png\")\n",
        "images_path[\"NoFindings\"] += glob(\"/content/drive/MyDrive/Source/X-Ray Image DataSet/No_findings/*.jpeg\")\n",
        "images_path[\"NoFindings\"] += glob(\"/content/drive/MyDrive/X-Ray Image DataSet/No_findings/*.jpg\")\n",
        "\n",
        "print(images_path[\"Covid\"])\n",
        "print(images_path[\"NoFindings\"])\n",
        "\n",
        "images_class = {\n",
        "    \"Covid\": 0,\n",
        "    \"NoFindings\": 1\n",
        "}"
      ],
      "metadata": {
        "colab": {
          "base_uri": "https://localhost:8080/"
        },
        "id": "TqyRHRz8x5nS",
        "outputId": "463fc846-b602-476c-ce0a-176f08c8e5b0"
      },
      "execution_count": null,
      "outputs": [
        {
          "output_type": "stream",
          "name": "stdout",
          "text": [
            "['/content/drive/MyDrive/X-Ray Image DataSet/Covid-19/1-s2.0-S1684118220300682-main.pdf-003-b2.png', '/content/drive/MyDrive/X-Ray Image DataSet/Covid-19/1.CXRCTThoraximagesofCOVID-19fromSingapore.pdf-000-fig1b.png', '/content/drive/MyDrive/X-Ray Image DataSet/Covid-19/1.CXRCTThoraximagesofCOVID-19fromSingapore.pdf-002-fig3b.png', '/content/drive/MyDrive/X-Ray Image DataSet/Covid-19/1.CXRCTThoraximagesofCOVID-19fromSingapore.pdf-000-fig1a.png', '/content/drive/MyDrive/X-Ray Image DataSet/Covid-19/41591_2020_819_Fig1_HTML.webp-day10.png', '/content/drive/MyDrive/X-Ray Image DataSet/Covid-19/41591_2020_819_Fig1_HTML.webp-day5.png', '/content/drive/MyDrive/X-Ray Image DataSet/Covid-19/ciaa199.pdf-001-b.png', '/content/drive/MyDrive/X-Ray Image DataSet/Covid-19/1.CXRCTThoraximagesofCOVID-19fromSingapore.pdf-001-fig2a.png', '/content/drive/MyDrive/X-Ray Image DataSet/Covid-19/1.CXRCTThoraximagesofCOVID-19fromSingapore.pdf-001-fig2b.png', '/content/drive/MyDrive/X-Ray Image DataSet/Covid-19/ciaa199.pdf-001-c.png', '/content/drive/MyDrive/X-Ray Image DataSet/Covid-19/1.CXRCTThoraximagesofCOVID-19fromSingapore.pdf-003-fig4a.png', '/content/drive/MyDrive/X-Ray Image DataSet/Covid-19/ciaa199.pdf-001-a.png', '/content/drive/MyDrive/X-Ray Image DataSet/Covid-19/covid-19-pneumonia-14-PA.png', '/content/drive/MyDrive/X-Ray Image DataSet/Covid-19/1-s2.0-S1684118220300682-main.pdf-002-a1.png', '/content/drive/MyDrive/X-Ray Image DataSet/Covid-19/1-s2.0-S1684118220300682-main.pdf-002-a2.png', '/content/drive/MyDrive/X-Ray Image DataSet/Covid-19/1-s2.0-S1684118220300682-main.pdf-003-b1.png', '/content/drive/MyDrive/X-Ray Image DataSet/Covid-19/1.CXRCTThoraximagesofCOVID-19fromSingapore.pdf-002-fig3a.png', '/content/drive/MyDrive/X-Ray Image DataSet/Covid-19/covid-19-pneumonia-28.png', '/content/drive/MyDrive/X-Ray Image DataSet/Covid-19/1.CXRCTThoraximagesofCOVID-19fromSingapore.pdf-003-fig4b.png', '/content/drive/MyDrive/X-Ray Image DataSet/Covid-19/23E99E2E-447C-46E5-8EB2-D35D12473C39.png', '/content/drive/MyDrive/X-Ray Image DataSet/Covid-19/7EF28E12-F628-4BEC-A8C5-E6277C2E4F60.png', '/content/drive/MyDrive/X-Ray Image DataSet/Covid-19/covid-19-infection-exclusive-gastrointestinal-symptoms-pa.png', '/content/drive/MyDrive/X-Ray Image DataSet/Covid-19/171CB377-62FF-4B76-906C-F3787A01CB2E.jpeg', '/content/drive/MyDrive/X-Ray Image DataSet/Covid-19/8FDE8DBA-CFBD-4B4C-B1A4-6F36A93B7E87.jpeg', '/content/drive/MyDrive/X-Ray Image DataSet/Covid-19/B59DD164-51D5-40DF-A926-6A42DD52EBE8.jpeg', '/content/drive/MyDrive/X-Ray Image DataSet/Covid-19/auntminnie-a-2020_01_28_23_51_6665_2020_01_28_Vietnam_coronavirus.jpeg', '/content/drive/MyDrive/X-Ray Image DataSet/Covid-19/1B734A89-A1BF-49A8-A1D3-66FAFA4FAC5D.jpeg', '/content/drive/MyDrive/X-Ray Image DataSet/Covid-19/9fdd3c3032296fd04d2cad5d9070d4_jumbo.jpeg', '/content/drive/MyDrive/X-Ray Image DataSet/Covid-19/ryct.2020200034.fig2.jpeg', '/content/drive/MyDrive/X-Ray Image DataSet/Covid-19/31BA3780-2323-493F-8AED-62081B9C383B.jpeg', '/content/drive/MyDrive/X-Ray Image DataSet/Covid-19/nejmc2001573_f1b.jpeg', '/content/drive/MyDrive/X-Ray Image DataSet/Covid-19/2C26F453-AF3B-4517-BB9E-802CF2179543.jpeg', '/content/drive/MyDrive/X-Ray Image DataSet/Covid-19/2B8649B2-00C4-4233-85D5-1CE240CF233B.jpeg', '/content/drive/MyDrive/X-Ray Image DataSet/Covid-19/B2D20576-00B7-4519-A415-72DE29C90C34.jpeg', '/content/drive/MyDrive/X-Ray Image DataSet/Covid-19/F2DE909F-E19C-4900-92F5-8F435B031AC6.jpeg', '/content/drive/MyDrive/X-Ray Image DataSet/Covid-19/80446565-E090-4187-A031-9D3CEAA586C8.jpeg', '/content/drive/MyDrive/X-Ray Image DataSet/Covid-19/2966893D-5DDF-4B68-9E2B-4979D5956C8E.jpeg', '/content/drive/MyDrive/X-Ray Image DataSet/Covid-19/7C69C012-7479-493F-8722-ABC29C60A2DD.jpeg', '/content/drive/MyDrive/X-Ray Image DataSet/Covid-19/6C94A287-C059-46A0-8600-AFB95F4727B7.jpeg', '/content/drive/MyDrive/X-Ray Image DataSet/Covid-19/E63574A7-4188-4C8D-8D17-9D67A18A1AFA.jpeg', '/content/drive/MyDrive/X-Ray Image DataSet/Covid-19/F4341CE7-73C9-45C6-99C8-8567A5484B63.jpeg', '/content/drive/MyDrive/X-Ray Image DataSet/Covid-19/6b44464d-73a7-4cf3-bbb6-ffe7168300e3.annot.original.jpeg', '/content/drive/MyDrive/X-Ray Image DataSet/Covid-19/ryct.2020200028.fig1a.jpeg', '/content/drive/MyDrive/X-Ray Image DataSet/Covid-19/1312A392-67A3-4EBF-9319-810CF6DA5EF6.jpeg', '/content/drive/MyDrive/X-Ray Image DataSet/Covid-19/7D2CF6CE-F529-4470-8356-D33FFAF98600.jpeg', '/content/drive/MyDrive/X-Ray Image DataSet/Covid-19/auntminnie-d-2020_01_28_23_51_6665_2020_01_28_Vietnam_coronavirus.jpeg', '/content/drive/MyDrive/X-Ray Image DataSet/Covid-19/FE9F9A5D-2830-46F9-851B-1FF4534959BE.jpeg', '/content/drive/MyDrive/X-Ray Image DataSet/Covid-19/5931B64A-7B97-485D-BE60-3F1EA76BC4F0.jpeg', '/content/drive/MyDrive/X-Ray Image DataSet/Covid-19/nejmoa2001191_f5-PA.jpeg', '/content/drive/MyDrive/X-Ray Image DataSet/Covid-19/58cb9263f16e94305c730685358e4e_jumbo.jpeg', '/content/drive/MyDrive/X-Ray Image DataSet/Covid-19/5e6dd879fde9502400e58b2f.jpeg', '/content/drive/MyDrive/X-Ray Image DataSet/Covid-19/39EE8E69-5801-48DE-B6E3-BE7D1BCF3092.jpeg', '/content/drive/MyDrive/X-Ray Image DataSet/Covid-19/7AF6C1AF-D249-4BD2-8C26-449304105D03.jpeg', '/content/drive/MyDrive/X-Ray Image DataSet/Covid-19/5CBC2E94-D358-401E-8928-965CCD965C5C.jpeg', '/content/drive/MyDrive/X-Ray Image DataSet/Covid-19/1F6343EE-AFEC-4B7D-97F5-62797EE18767.jpeg', '/content/drive/MyDrive/X-Ray Image DataSet/Covid-19/85E52EB3-56E9-4D67-82DA-DEA247C82886.jpeg', '/content/drive/MyDrive/X-Ray Image DataSet/Covid-19/53EC07C9-5CC6-4BE4-9B6F-D7B0D72AAA7E.jpeg', '/content/drive/MyDrive/X-Ray Image DataSet/Covid-19/nejmoa2001191_f1-PA.jpeg', '/content/drive/MyDrive/X-Ray Image DataSet/Covid-19/auntminnie-c-2020_01_28_23_51_6665_2020_01_28_Vietnam_coronavirus.jpeg', '/content/drive/MyDrive/X-Ray Image DataSet/Covid-19/6CB4EFC6-68FA-4CD5-940C-BEFA8DAFE9A7.jpeg', '/content/drive/MyDrive/X-Ray Image DataSet/Covid-19/C6EA0BE5-B01E-4113-B194-18D956675E25.jpeg', '/content/drive/MyDrive/X-Ray Image DataSet/Covid-19/D7AF463C-2369-492D-908D-BE1911CCD74C.jpeg', '/content/drive/MyDrive/X-Ray Image DataSet/Covid-19/E1724330-1866-4581-8CD8-CEC9B8AFEDDE.jpeg', '/content/drive/MyDrive/X-Ray Image DataSet/Covid-19/01E392EE-69F9-4E33-BFCE-E5C968654078.jpeg', '/content/drive/MyDrive/X-Ray Image DataSet/Covid-19/auntminnie-b-2020_01_28_23_51_6665_2020_01_28_Vietnam_coronavirus.jpeg', '/content/drive/MyDrive/X-Ray Image DataSet/Covid-19/figure1-5e75d0940b71e1b702629659-98-right.jpeg', '/content/drive/MyDrive/X-Ray Image DataSet/Covid-19/figure1-5e73d7ae897e27ff066a30cb-98.jpeg', '/content/drive/MyDrive/X-Ray Image DataSet/Covid-19/figure1-5e71be566aa8714a04de3386-98-left.jpeg', '/content/drive/MyDrive/X-Ray Image DataSet/Covid-19/CD50BA96-6982-4C80-AE7B-5F67ACDBFA56.jpeg', '/content/drive/MyDrive/X-Ray Image DataSet/Covid-19/ryct.2020200034.fig5-day7.jpeg', '/content/drive/MyDrive/X-Ray Image DataSet/Covid-19/03BF7561-A9BA-4C3C-B8A0-D3E585F73F3C.jpeg', '/content/drive/MyDrive/X-Ray Image DataSet/Covid-19/9C34AF49-E589-44D5-92D3-168B3B04E4A6.jpeg', '/content/drive/MyDrive/X-Ray Image DataSet/Covid-19/nejmc2001573_f1a.jpeg', '/content/drive/MyDrive/X-Ray Image DataSet/Covid-19/ryct.2020200034.fig5-day0.jpeg', '/content/drive/MyDrive/X-Ray Image DataSet/Covid-19/nejmoa2001191_f4.jpeg', '/content/drive/MyDrive/X-Ray Image DataSet/Covid-19/nCoV-radiol.2020200269.fig1-day7.jpeg', '/content/drive/MyDrive/X-Ray Image DataSet/Covid-19/93FE0BB1-022D-4F24-9727-987A07975FFB.jpeg', '/content/drive/MyDrive/X-Ray Image DataSet/Covid-19/ryct.2020200034.fig5-day4.jpeg', '/content/drive/MyDrive/X-Ray Image DataSet/Covid-19/5A78BCA9-5B7A-440D-8A4E-AE7710EA6EAD.jpeg', '/content/drive/MyDrive/X-Ray Image DataSet/Covid-19/F63AB6CE-1968-4154-A70F-913AF154F53D.jpeg', '/content/drive/MyDrive/X-Ray Image DataSet/Covid-19/nejmoa2001191_f3-PA.jpeg', '/content/drive/MyDrive/X-Ray Image DataSet/Covid-19/446B2CB6-B572-40AB-B01F-1910CA07086A.jpeg', '/content/drive/MyDrive/X-Ray Image DataSet/Covid-19/radiol.2020200490.fig3.jpeg', '/content/drive/MyDrive/X-Ray Image DataSet/Covid-19/2C10A413-AABE-4807-8CCE-6A2025594067.jpeg', '/content/drive/MyDrive/X-Ray Image DataSet/Covid-19/353889E0-A1E8-4F9E-A0B8-F24F36BCFBFB.jpeg', '/content/drive/MyDrive/X-Ray Image DataSet/Covid-19/7E335538-2F86-424E-A0AB-6397783A38D0.jpeg', '/content/drive/MyDrive/X-Ray Image DataSet/Covid-19/covid-19-pneumonia-evolution-over-a-week-1-day0-PA.jpg', '/content/drive/MyDrive/X-Ray Image DataSet/Covid-19/covid-19-pneumonia-evolution-over-a-week-1-day3.jpg', '/content/drive/MyDrive/X-Ray Image DataSet/Covid-19/1-s2.0-S0140673620303706-fx1_lrg.jpg', '/content/drive/MyDrive/X-Ray Image DataSet/Covid-19/lancet-case2a.jpg', '/content/drive/MyDrive/X-Ray Image DataSet/Covid-19/covid-19-pneumonia-2.jpg', '/content/drive/MyDrive/X-Ray Image DataSet/Covid-19/jkms-35-e79-g001-l-c.jpg', '/content/drive/MyDrive/X-Ray Image DataSet/Covid-19/kjr-21-e24-g001-l-a.jpg', '/content/drive/MyDrive/X-Ray Image DataSet/Covid-19/covid-19-pneumonia-15-PA.jpg', '/content/drive/MyDrive/X-Ray Image DataSet/Covid-19/covid-19-pneumonia-24-day7.jpg', '/content/drive/MyDrive/X-Ray Image DataSet/Covid-19/1-s2.0-S0929664620300449-gr2_lrg-a.jpg', '/content/drive/MyDrive/X-Ray Image DataSet/Covid-19/covid-19-pneumonia-evolution-over-a-week-1-day4.jpg', '/content/drive/MyDrive/X-Ray Image DataSet/Covid-19/jkms-35-e79-g001-l-a.jpg', '/content/drive/MyDrive/X-Ray Image DataSet/Covid-19/1-s2.0-S1684118220300608-main.pdf-001.jpg', '/content/drive/MyDrive/X-Ray Image DataSet/Covid-19/covid-19-pneumonia-24-day12.jpg', '/content/drive/MyDrive/X-Ray Image DataSet/Covid-19/1-s2.0-S0929664620300449-gr2_lrg-d.jpg', '/content/drive/MyDrive/X-Ray Image DataSet/Covid-19/covid-19-pneumonia-7-PA.jpg', '/content/drive/MyDrive/X-Ray Image DataSet/Covid-19/all14238-fig-0002-m-f.jpg', '/content/drive/MyDrive/X-Ray Image DataSet/Covid-19/kjr-21-e24-g002-l-a.jpg', '/content/drive/MyDrive/X-Ray Image DataSet/Covid-19/all14238-fig-0002-m-d.jpg', '/content/drive/MyDrive/X-Ray Image DataSet/Covid-19/all14238-fig-0002-m-e.jpg', '/content/drive/MyDrive/X-Ray Image DataSet/Covid-19/jkms-35-e79-g001-l-b.jpg', '/content/drive/MyDrive/X-Ray Image DataSet/Covid-19/covid-19-pneumonia-12.jpg', '/content/drive/MyDrive/X-Ray Image DataSet/Covid-19/kjr-21-e24-g003-l-a.jpg', '/content/drive/MyDrive/X-Ray Image DataSet/Covid-19/kjr-21-e25-g001-l-a.jpg', '/content/drive/MyDrive/X-Ray Image DataSet/Covid-19/covid-19-pneumonia-rapidly-progressive-12-hours.jpg', '/content/drive/MyDrive/X-Ray Image DataSet/Covid-19/covid-19-pneumonia-24-day6.jpg', '/content/drive/MyDrive/X-Ray Image DataSet/Covid-19/covid-19-rapidly-progressive-acute-respiratory-distress-syndrome-ards-day-1.jpg', '/content/drive/MyDrive/X-Ray Image DataSet/Covid-19/1-s2.0-S0929664620300449-gr2_lrg-c.jpg', '/content/drive/MyDrive/X-Ray Image DataSet/Covid-19/all14238-fig-0001-m-b.jpg', '/content/drive/MyDrive/X-Ray Image DataSet/Covid-19/covid-19-rapidly-progressive-acute-respiratory-distress-syndrome-ards-day-2.jpg', '/content/drive/MyDrive/X-Ray Image DataSet/Covid-19/1-s2.0-S1684118220300608-main.pdf-002.jpg', '/content/drive/MyDrive/X-Ray Image DataSet/Covid-19/covid-19-pneumonia-rapidly-progressive-admission.jpg', '/content/drive/MyDrive/X-Ray Image DataSet/Covid-19/covid-19-rapidly-progressive-acute-respiratory-distress-syndrome-ards-admission.jpg', '/content/drive/MyDrive/X-Ray Image DataSet/Covid-19/1-s2.0-S0929664620300449-gr2_lrg-b.jpg', '/content/drive/MyDrive/X-Ray Image DataSet/Covid-19/covid-19-pneumonia-19.jpg', '/content/drive/MyDrive/X-Ray Image DataSet/Covid-19/lancet-case2b.jpg', '/content/drive/MyDrive/X-Ray Image DataSet/Covid-19/covid-19-pneumonia-rapidly-progressive-3-days.jpg', '/content/drive/MyDrive/X-Ray Image DataSet/Covid-19/all14238-fig-0001-m-c.jpg', '/content/drive/MyDrive/X-Ray Image DataSet/Covid-19/covid-19-pneumonia-30-PA.jpg']\n",
            "['/content/drive/MyDrive/X-Ray Image DataSet/No_findings/00001710_000.png', '/content/drive/MyDrive/X-Ray Image DataSet/No_findings/00003837_004.png', '/content/drive/MyDrive/X-Ray Image DataSet/No_findings/00003198_005.png', '/content/drive/MyDrive/X-Ray Image DataSet/No_findings/00003417_000.png', '/content/drive/MyDrive/X-Ray Image DataSet/No_findings/00003580_002.png', '/content/drive/MyDrive/X-Ray Image DataSet/No_findings/00001638_000.png', '/content/drive/MyDrive/X-Ray Image DataSet/No_findings/00001992_015.png', '/content/drive/MyDrive/X-Ray Image DataSet/No_findings/00003392_019.png', '/content/drive/MyDrive/X-Ray Image DataSet/No_findings/00003211_004.png', '/content/drive/MyDrive/X-Ray Image DataSet/No_findings/00003535_021.png', '/content/drive/MyDrive/X-Ray Image DataSet/No_findings/00001684_011.png', '/content/drive/MyDrive/X-Ray Image DataSet/No_findings/00003006_001.png', '/content/drive/MyDrive/X-Ray Image DataSet/No_findings/00002811_000.png', '/content/drive/MyDrive/X-Ray Image DataSet/No_findings/00001684_015.png', '/content/drive/MyDrive/X-Ray Image DataSet/No_findings/00003628_002.png', '/content/drive/MyDrive/X-Ray Image DataSet/No_findings/00002933_000.png', '/content/drive/MyDrive/X-Ray Image DataSet/No_findings/00003580_001.png', '/content/drive/MyDrive/X-Ray Image DataSet/No_findings/00003478_004.png', '/content/drive/MyDrive/X-Ray Image DataSet/No_findings/00003601_006.png', '/content/drive/MyDrive/X-Ray Image DataSet/No_findings/00002071_000.png', '/content/drive/MyDrive/X-Ray Image DataSet/No_findings/00002452_000.png', '/content/drive/MyDrive/X-Ray Image DataSet/No_findings/00002644_000.png', '/content/drive/MyDrive/X-Ray Image DataSet/No_findings/00002827_001.png', '/content/drive/MyDrive/X-Ray Image DataSet/No_findings/00001820_002.png', '/content/drive/MyDrive/X-Ray Image DataSet/No_findings/00003412_000.png', '/content/drive/MyDrive/X-Ray Image DataSet/No_findings/00003426_018.png', '/content/drive/MyDrive/X-Ray Image DataSet/No_findings/00002812_000.png', '/content/drive/MyDrive/X-Ray Image DataSet/No_findings/00003661_000.png', '/content/drive/MyDrive/X-Ray Image DataSet/No_findings/00003137_001.png', '/content/drive/MyDrive/X-Ray Image DataSet/No_findings/00001699_002.png', '/content/drive/MyDrive/X-Ray Image DataSet/No_findings/00001526_000.png', '/content/drive/MyDrive/X-Ray Image DataSet/No_findings/00003672_002.png', '/content/drive/MyDrive/X-Ray Image DataSet/No_findings/00001576_001.png', '/content/drive/MyDrive/X-Ray Image DataSet/No_findings/00002233_000.png', '/content/drive/MyDrive/X-Ray Image DataSet/No_findings/00002545_001.png', '/content/drive/MyDrive/X-Ray Image DataSet/No_findings/00001820_003.png', '/content/drive/MyDrive/X-Ray Image DataSet/No_findings/00003356_000.png', '/content/drive/MyDrive/X-Ray Image DataSet/No_findings/00003847_004.png', '/content/drive/MyDrive/X-Ray Image DataSet/No_findings/00003693_007.png', '/content/drive/MyDrive/X-Ray Image DataSet/No_findings/00002482_001.png', '/content/drive/MyDrive/X-Ray Image DataSet/No_findings/00002863_003.png', '/content/drive/MyDrive/X-Ray Image DataSet/No_findings/00003098_014.png', '/content/drive/MyDrive/X-Ray Image DataSet/No_findings/00002301_000.png', '/content/drive/MyDrive/X-Ray Image DataSet/No_findings/00003140_007.png', '/content/drive/MyDrive/X-Ray Image DataSet/No_findings/00003369_013.png', '/content/drive/MyDrive/X-Ray Image DataSet/No_findings/00001951_008.png', '/content/drive/MyDrive/X-Ray Image DataSet/No_findings/00003264_004.png', '/content/drive/MyDrive/X-Ray Image DataSet/No_findings/00003541_000.png', '/content/drive/MyDrive/X-Ray Image DataSet/No_findings/00001689_012.png', '/content/drive/MyDrive/X-Ray Image DataSet/No_findings/00001634_008.png', '/content/drive/MyDrive/X-Ray Image DataSet/No_findings/00003895_000.png', '/content/drive/MyDrive/X-Ray Image DataSet/No_findings/00002339_012.png', '/content/drive/MyDrive/X-Ray Image DataSet/No_findings/00003914_001.png', '/content/drive/MyDrive/X-Ray Image DataSet/No_findings/00002381_004.png', '/content/drive/MyDrive/X-Ray Image DataSet/No_findings/00003209_001.png', '/content/drive/MyDrive/X-Ray Image DataSet/No_findings/00001385_000.png', '/content/drive/MyDrive/X-Ray Image DataSet/No_findings/00002442_001.png', '/content/drive/MyDrive/X-Ray Image DataSet/No_findings/00002344_007.png', '/content/drive/MyDrive/X-Ray Image DataSet/No_findings/00003459_015.png', '/content/drive/MyDrive/X-Ray Image DataSet/No_findings/00002070_003.png', '/content/drive/MyDrive/X-Ray Image DataSet/No_findings/00001970_001.png', '/content/drive/MyDrive/X-Ray Image DataSet/No_findings/00002117_005.png', '/content/drive/MyDrive/X-Ray Image DataSet/No_findings/00002215_002.png', '/content/drive/MyDrive/X-Ray Image DataSet/No_findings/00002633_011.png', '/content/drive/MyDrive/X-Ray Image DataSet/No_findings/00002237_000.png', '/content/drive/MyDrive/X-Ray Image DataSet/No_findings/00003140_004.png', '/content/drive/MyDrive/X-Ray Image DataSet/No_findings/00001684_006.png', '/content/drive/MyDrive/X-Ray Image DataSet/No_findings/00003773_000.png', '/content/drive/MyDrive/X-Ray Image DataSet/No_findings/00003005_019.png', '/content/drive/MyDrive/X-Ray Image DataSet/No_findings/00003507_000.png', '/content/drive/MyDrive/X-Ray Image DataSet/No_findings/00001981_000.png', '/content/drive/MyDrive/X-Ray Image DataSet/No_findings/00002058_014.png', '/content/drive/MyDrive/X-Ray Image DataSet/No_findings/00003571_000.png', '/content/drive/MyDrive/X-Ray Image DataSet/No_findings/00001739_000.png', '/content/drive/MyDrive/X-Ray Image DataSet/No_findings/00001992_010.png', '/content/drive/MyDrive/X-Ray Image DataSet/No_findings/00001389_002.png', '/content/drive/MyDrive/X-Ray Image DataSet/No_findings/00003572_000.png', '/content/drive/MyDrive/X-Ray Image DataSet/No_findings/00003230_006.png', '/content/drive/MyDrive/X-Ray Image DataSet/No_findings/00001326_002.png', '/content/drive/MyDrive/X-Ray Image DataSet/No_findings/00001986_006.png', '/content/drive/MyDrive/X-Ray Image DataSet/No_findings/00002194_002.png', '/content/drive/MyDrive/X-Ray Image DataSet/No_findings/00003438_000.png', '/content/drive/MyDrive/X-Ray Image DataSet/No_findings/00002229_004.png', '/content/drive/MyDrive/X-Ray Image DataSet/No_findings/00003098_001.png', '/content/drive/MyDrive/X-Ray Image DataSet/No_findings/00001996_010.png', '/content/drive/MyDrive/X-Ray Image DataSet/No_findings/00002091_000.png', '/content/drive/MyDrive/X-Ray Image DataSet/No_findings/00001568_001.png', '/content/drive/MyDrive/X-Ray Image DataSet/No_findings/00002594_007.png', '/content/drive/MyDrive/X-Ray Image DataSet/No_findings/00002053_000.png', '/content/drive/MyDrive/X-Ray Image DataSet/No_findings/00003150_000.png', '/content/drive/MyDrive/X-Ray Image DataSet/No_findings/00003126_021.png', '/content/drive/MyDrive/X-Ray Image DataSet/No_findings/00001759_001.png', '/content/drive/MyDrive/X-Ray Image DataSet/No_findings/00001666_001.png', '/content/drive/MyDrive/X-Ray Image DataSet/No_findings/00002339_011.png', '/content/drive/MyDrive/X-Ray Image DataSet/No_findings/00003698_000.png', '/content/drive/MyDrive/X-Ray Image DataSet/No_findings/00003330_003.png', '/content/drive/MyDrive/X-Ray Image DataSet/No_findings/00001880_000.png', '/content/drive/MyDrive/X-Ray Image DataSet/No_findings/00002843_019.png', '/content/drive/MyDrive/X-Ray Image DataSet/No_findings/00001504_000.png', '/content/drive/MyDrive/X-Ray Image DataSet/No_findings/00001569_003.png', '/content/drive/MyDrive/X-Ray Image DataSet/No_findings/00003428_002.png', '/content/drive/MyDrive/X-Ray Image DataSet/No_findings/00003363_002.png', '/content/drive/MyDrive/X-Ray Image DataSet/No_findings/00002673_002.png', '/content/drive/MyDrive/X-Ray Image DataSet/No_findings/00003292_002.png', '/content/drive/MyDrive/X-Ray Image DataSet/No_findings/00002572_005.png', '/content/drive/MyDrive/X-Ray Image DataSet/No_findings/00001504_001.png', '/content/drive/MyDrive/X-Ray Image DataSet/No_findings/00003872_001.png', '/content/drive/MyDrive/X-Ray Image DataSet/No_findings/00001961_005.png', '/content/drive/MyDrive/X-Ray Image DataSet/No_findings/00003552_005.png', '/content/drive/MyDrive/X-Ray Image DataSet/No_findings/00003468_006.png', '/content/drive/MyDrive/X-Ray Image DataSet/No_findings/00002380_002.png', '/content/drive/MyDrive/X-Ray Image DataSet/No_findings/00001684_003.png', '/content/drive/MyDrive/X-Ray Image DataSet/No_findings/00002673_004.png', '/content/drive/MyDrive/X-Ray Image DataSet/No_findings/00003623_000.png', '/content/drive/MyDrive/X-Ray Image DataSet/No_findings/00003392_018.png', '/content/drive/MyDrive/X-Ray Image DataSet/No_findings/00001854_003.png', '/content/drive/MyDrive/X-Ray Image DataSet/No_findings/00003478_003.png', '/content/drive/MyDrive/X-Ray Image DataSet/No_findings/00002250_002.png', '/content/drive/MyDrive/X-Ray Image DataSet/No_findings/00002451_005.png', '/content/drive/MyDrive/X-Ray Image DataSet/No_findings/00003140_017.png', '/content/drive/MyDrive/X-Ray Image DataSet/No_findings/00002549_005.png', '/content/drive/MyDrive/X-Ray Image DataSet/No_findings/00003363_001.png', '/content/drive/MyDrive/X-Ray Image DataSet/No_findings/00001616_011.png', '/content/drive/MyDrive/X-Ray Image DataSet/No_findings/00003421_004.png', '/content/drive/MyDrive/X-Ray Image DataSet/No_findings/00002497_000.png', '/content/drive/MyDrive/X-Ray Image DataSet/No_findings/00001543_007.png', '/content/drive/MyDrive/X-Ray Image DataSet/No_findings/00001483_017.png', '/content/drive/MyDrive/X-Ray Image DataSet/No_findings/00003426_014.png', '/content/drive/MyDrive/X-Ray Image DataSet/No_findings/00003628_000.png', '/content/drive/MyDrive/X-Ray Image DataSet/No_findings/00002022_000.png', '/content/drive/MyDrive/X-Ray Image DataSet/No_findings/00002670_000.png', '/content/drive/MyDrive/X-Ray Image DataSet/No_findings/00001504_002.png', '/content/drive/MyDrive/X-Ray Image DataSet/No_findings/00001543_005.png', '/content/drive/MyDrive/X-Ray Image DataSet/No_findings/00001700_001.png', '/content/drive/MyDrive/X-Ray Image DataSet/No_findings/00001613_000.png', '/content/drive/MyDrive/X-Ray Image DataSet/No_findings/00002104_006.png', '/content/drive/MyDrive/X-Ray Image DataSet/No_findings/00003490_012.png', '/content/drive/MyDrive/X-Ray Image DataSet/No_findings/00001682_001.png', '/content/drive/MyDrive/X-Ray Image DataSet/No_findings/00003275_005.png', '/content/drive/MyDrive/X-Ray Image DataSet/No_findings/00001426_000.png', '/content/drive/MyDrive/X-Ray Image DataSet/No_findings/00001803_005.png', '/content/drive/MyDrive/X-Ray Image DataSet/No_findings/00002921_000.png', '/content/drive/MyDrive/X-Ray Image DataSet/No_findings/00001389_003.png', '/content/drive/MyDrive/X-Ray Image DataSet/No_findings/00002457_011.png', '/content/drive/MyDrive/X-Ray Image DataSet/No_findings/00001734_001.png', '/content/drive/MyDrive/X-Ray Image DataSet/No_findings/00001769_000.png', '/content/drive/MyDrive/X-Ray Image DataSet/No_findings/00003140_010.png', '/content/drive/MyDrive/X-Ray Image DataSet/No_findings/00003448_000.png', '/content/drive/MyDrive/X-Ray Image DataSet/No_findings/00003005_013.png', '/content/drive/MyDrive/X-Ray Image DataSet/No_findings/00002491_012.png', '/content/drive/MyDrive/X-Ray Image DataSet/No_findings/00001895_000.png', '/content/drive/MyDrive/X-Ray Image DataSet/No_findings/00001497_000.png', '/content/drive/MyDrive/X-Ray Image DataSet/No_findings/00003354_002.png', '/content/drive/MyDrive/X-Ray Image DataSet/No_findings/00003510_015.png', '/content/drive/MyDrive/X-Ray Image DataSet/No_findings/00003689_010.png', '/content/drive/MyDrive/X-Ray Image DataSet/No_findings/00003248_001.png', '/content/drive/MyDrive/X-Ray Image DataSet/No_findings/00003847_012.png', '/content/drive/MyDrive/X-Ray Image DataSet/No_findings/00003478_000.png', '/content/drive/MyDrive/X-Ray Image DataSet/No_findings/00001620_005.png', '/content/drive/MyDrive/X-Ray Image DataSet/No_findings/00001543_006.png', '/content/drive/MyDrive/X-Ray Image DataSet/No_findings/00003176_002.png', '/content/drive/MyDrive/X-Ray Image DataSet/No_findings/00003158_001.png', '/content/drive/MyDrive/X-Ray Image DataSet/No_findings/00001804_000.png', '/content/drive/MyDrive/X-Ray Image DataSet/No_findings/00001697_001.png', '/content/drive/MyDrive/X-Ray Image DataSet/No_findings/00003140_006.png', '/content/drive/MyDrive/X-Ray Image DataSet/No_findings/00001401_001.png', '/content/drive/MyDrive/X-Ray Image DataSet/No_findings/00003024_001.png', '/content/drive/MyDrive/X-Ray Image DataSet/No_findings/00003447_001.png', '/content/drive/MyDrive/X-Ray Image DataSet/No_findings/00001362_017.png', '/content/drive/MyDrive/X-Ray Image DataSet/No_findings/00001543_002.png', '/content/drive/MyDrive/X-Ray Image DataSet/No_findings/00001526_002.png', '/content/drive/MyDrive/X-Ray Image DataSet/No_findings/00002356_005.png', '/content/drive/MyDrive/X-Ray Image DataSet/No_findings/00003263_001.png', '/content/drive/MyDrive/X-Ray Image DataSet/No_findings/00002572_000.png', '/content/drive/MyDrive/X-Ray Image DataSet/No_findings/00003120_000.png', '/content/drive/MyDrive/X-Ray Image DataSet/No_findings/00003574_006.png', '/content/drive/MyDrive/X-Ray Image DataSet/No_findings/00003259_001.png', '/content/drive/MyDrive/X-Ray Image DataSet/No_findings/00003264_000.png', '/content/drive/MyDrive/X-Ray Image DataSet/No_findings/00002120_007.png', '/content/drive/MyDrive/X-Ray Image DataSet/No_findings/00003570_003.png', '/content/drive/MyDrive/X-Ray Image DataSet/No_findings/00003497_000.png', '/content/drive/MyDrive/X-Ray Image DataSet/No_findings/00002633_030.png', '/content/drive/MyDrive/X-Ray Image DataSet/No_findings/00001865_000.png', '/content/drive/MyDrive/X-Ray Image DataSet/No_findings/00003970_002.png', '/content/drive/MyDrive/X-Ray Image DataSet/No_findings/00001684_005.png', '/content/drive/MyDrive/X-Ray Image DataSet/No_findings/00003849_000.png', '/content/drive/MyDrive/X-Ray Image DataSet/No_findings/00001323_001.png', '/content/drive/MyDrive/X-Ray Image DataSet/No_findings/00002846_011.png', '/content/drive/MyDrive/X-Ray Image DataSet/No_findings/00003490_008.png', '/content/drive/MyDrive/X-Ray Image DataSet/No_findings/00003043_000.png', '/content/drive/MyDrive/X-Ray Image DataSet/No_findings/00002633_005.png', '/content/drive/MyDrive/X-Ray Image DataSet/No_findings/00001362_014.png', '/content/drive/MyDrive/X-Ray Image DataSet/No_findings/00003126_019.png', '/content/drive/MyDrive/X-Ray Image DataSet/No_findings/00002032_006.png', '/content/drive/MyDrive/X-Ray Image DataSet/No_findings/00001986_007.png', '/content/drive/MyDrive/X-Ray Image DataSet/No_findings/00002817_010.png', '/content/drive/MyDrive/X-Ray Image DataSet/No_findings/00001568_003.png', '/content/drive/MyDrive/X-Ray Image DataSet/No_findings/00002933_001.png', '/content/drive/MyDrive/X-Ray Image DataSet/No_findings/00003418_000.png', '/content/drive/MyDrive/X-Ray Image DataSet/No_findings/00001772_007.png', '/content/drive/MyDrive/X-Ray Image DataSet/No_findings/00003353_005.png', '/content/drive/MyDrive/X-Ray Image DataSet/No_findings/00003330_005.png', '/content/drive/MyDrive/X-Ray Image DataSet/No_findings/00002381_005.png', '/content/drive/MyDrive/X-Ray Image DataSet/No_findings/00001854_002.png', '/content/drive/MyDrive/X-Ray Image DataSet/No_findings/00001543_004.png', '/content/drive/MyDrive/X-Ray Image DataSet/No_findings/00003771_003.png', '/content/drive/MyDrive/X-Ray Image DataSet/No_findings/00002550_000.png', '/content/drive/MyDrive/X-Ray Image DataSet/No_findings/00002582_005.png', '/content/drive/MyDrive/X-Ray Image DataSet/No_findings/00002645_002.png', '/content/drive/MyDrive/X-Ray Image DataSet/No_findings/00002262_006.png', '/content/drive/MyDrive/X-Ray Image DataSet/No_findings/00003130_004.png', '/content/drive/MyDrive/X-Ray Image DataSet/No_findings/00003178_000.png', '/content/drive/MyDrive/X-Ray Image DataSet/No_findings/00002949_000.png', '/content/drive/MyDrive/X-Ray Image DataSet/No_findings/00002954_007.png', '/content/drive/MyDrive/X-Ray Image DataSet/No_findings/00001616_008.png', '/content/drive/MyDrive/X-Ray Image DataSet/No_findings/00002117_011.png', '/content/drive/MyDrive/X-Ray Image DataSet/No_findings/00003742_001.png', '/content/drive/MyDrive/X-Ray Image DataSet/No_findings/00001957_002.png', '/content/drive/MyDrive/X-Ray Image DataSet/No_findings/00002754_000.png', '/content/drive/MyDrive/X-Ray Image DataSet/No_findings/00001303_001.png', '/content/drive/MyDrive/X-Ray Image DataSet/No_findings/00002102_000.png', '/content/drive/MyDrive/X-Ray Image DataSet/No_findings/00003276_000.png', '/content/drive/MyDrive/X-Ray Image DataSet/No_findings/00003779_005.png', '/content/drive/MyDrive/X-Ray Image DataSet/No_findings/00001986_005.png', '/content/drive/MyDrive/X-Ray Image DataSet/No_findings/00001464_000.png', '/content/drive/MyDrive/X-Ray Image DataSet/No_findings/00001470_003.png', '/content/drive/MyDrive/X-Ray Image DataSet/No_findings/00001323_002.png', '/content/drive/MyDrive/X-Ray Image DataSet/No_findings/00003080_000.png', '/content/drive/MyDrive/X-Ray Image DataSet/No_findings/00001507_002.png', '/content/drive/MyDrive/X-Ray Image DataSet/No_findings/00003190_015.png', '/content/drive/MyDrive/X-Ray Image DataSet/No_findings/00003867_004.png', '/content/drive/MyDrive/X-Ray Image DataSet/No_findings/00003392_031.png', '/content/drive/MyDrive/X-Ray Image DataSet/No_findings/00003190_013.png', '/content/drive/MyDrive/X-Ray Image DataSet/No_findings/00002860_021.png', '/content/drive/MyDrive/X-Ray Image DataSet/No_findings/00001516_000.png', '/content/drive/MyDrive/X-Ray Image DataSet/No_findings/00002582_001.png', '/content/drive/MyDrive/X-Ray Image DataSet/No_findings/00001992_000.png', '/content/drive/MyDrive/X-Ray Image DataSet/No_findings/00003441_000.png', '/content/drive/MyDrive/X-Ray Image DataSet/No_findings/00002673_019.png', '/content/drive/MyDrive/X-Ray Image DataSet/No_findings/00001613_004.png', '/content/drive/MyDrive/X-Ray Image DataSet/No_findings/00003896_006.png', '/content/drive/MyDrive/X-Ray Image DataSet/No_findings/00002013_002.png', '/content/drive/MyDrive/X-Ray Image DataSet/No_findings/00001385_003.png', '/content/drive/MyDrive/X-Ray Image DataSet/No_findings/00003361_008.png', '/content/drive/MyDrive/X-Ray Image DataSet/No_findings/00001847_006.png', '/content/drive/MyDrive/X-Ray Image DataSet/No_findings/00001951_017.png', '/content/drive/MyDrive/X-Ray Image DataSet/No_findings/00002229_003.png', '/content/drive/MyDrive/X-Ray Image DataSet/No_findings/00001885_000.png', '/content/drive/MyDrive/X-Ray Image DataSet/No_findings/00003453_000.png', '/content/drive/MyDrive/X-Ray Image DataSet/No_findings/00003190_014.png', '/content/drive/MyDrive/X-Ray Image DataSet/No_findings/00003226_004.png', '/content/drive/MyDrive/X-Ray Image DataSet/No_findings/00001763_000.png', '/content/drive/MyDrive/X-Ray Image DataSet/No_findings/00001371_001.png', '/content/drive/MyDrive/X-Ray Image DataSet/No_findings/00001724_006.png', '/content/drive/MyDrive/X-Ray Image DataSet/No_findings/00001803_001.png', '/content/drive/MyDrive/X-Ray Image DataSet/No_findings/00002720_024.png', '/content/drive/MyDrive/X-Ray Image DataSet/No_findings/00002239_004.png', '/content/drive/MyDrive/X-Ray Image DataSet/No_findings/00003828_000.png', '/content/drive/MyDrive/X-Ray Image DataSet/No_findings/00001471_001.png', '/content/drive/MyDrive/X-Ray Image DataSet/No_findings/00001362_001.png', '/content/drive/MyDrive/X-Ray Image DataSet/No_findings/00002852_000.png', '/content/drive/MyDrive/X-Ray Image DataSet/No_findings/00003647_001.png', '/content/drive/MyDrive/X-Ray Image DataSet/No_findings/00003709_007.png', '/content/drive/MyDrive/X-Ray Image DataSet/No_findings/00002154_000.png', '/content/drive/MyDrive/X-Ray Image DataSet/No_findings/00001371_003.png', '/content/drive/MyDrive/X-Ray Image DataSet/No_findings/00002094_002.png', '/content/drive/MyDrive/X-Ray Image DataSet/No_findings/00003442_000.png', '/content/drive/MyDrive/X-Ray Image DataSet/No_findings/00001452_002.png', '/content/drive/MyDrive/X-Ray Image DataSet/No_findings/00002007_000.png', '/content/drive/MyDrive/X-Ray Image DataSet/No_findings/00001595_002.png', '/content/drive/MyDrive/X-Ray Image DataSet/No_findings/00001841_000.png', '/content/drive/MyDrive/X-Ray Image DataSet/No_findings/00003129_008.png', '/content/drive/MyDrive/X-Ray Image DataSet/No_findings/00002678_004.png', '/content/drive/MyDrive/X-Ray Image DataSet/No_findings/00003680_000.png', '/content/drive/MyDrive/X-Ray Image DataSet/No_findings/00001591_000.png', '/content/drive/MyDrive/X-Ray Image DataSet/No_findings/00003437_000.png', '/content/drive/MyDrive/X-Ray Image DataSet/No_findings/00001724_005.png', '/content/drive/MyDrive/X-Ray Image DataSet/No_findings/00003415_000.png', '/content/drive/MyDrive/X-Ray Image DataSet/No_findings/00002457_013.png', '/content/drive/MyDrive/X-Ray Image DataSet/No_findings/00003040_000.png', '/content/drive/MyDrive/X-Ray Image DataSet/No_findings/00003478_002.png', '/content/drive/MyDrive/X-Ray Image DataSet/No_findings/00003750_003.png', '/content/drive/MyDrive/X-Ray Image DataSet/No_findings/00001489_000.png', '/content/drive/MyDrive/X-Ray Image DataSet/No_findings/00002860_002.png', '/content/drive/MyDrive/X-Ray Image DataSet/No_findings/00001951_010.png', '/content/drive/MyDrive/X-Ray Image DataSet/No_findings/00001684_008.png', '/content/drive/MyDrive/X-Ray Image DataSet/No_findings/00001689_009.png', '/content/drive/MyDrive/X-Ray Image DataSet/No_findings/00001880_001.png', '/content/drive/MyDrive/X-Ray Image DataSet/No_findings/00002658_001.png', '/content/drive/MyDrive/X-Ray Image DataSet/No_findings/00002678_006.png', '/content/drive/MyDrive/X-Ray Image DataSet/No_findings/00003140_014.png', '/content/drive/MyDrive/X-Ray Image DataSet/No_findings/00001371_002.png', '/content/drive/MyDrive/X-Ray Image DataSet/No_findings/00003248_003.png', '/content/drive/MyDrive/X-Ray Image DataSet/No_findings/00003882_007.png', '/content/drive/MyDrive/X-Ray Image DataSet/No_findings/00001684_012.png', '/content/drive/MyDrive/X-Ray Image DataSet/No_findings/00003161_003.png', '/content/drive/MyDrive/X-Ray Image DataSet/No_findings/00002474_006.png', '/content/drive/MyDrive/X-Ray Image DataSet/No_findings/00003518_000.png', '/content/drive/MyDrive/X-Ray Image DataSet/No_findings/00003140_001.png', '/content/drive/MyDrive/X-Ray Image DataSet/No_findings/00002658_002.png', '/content/drive/MyDrive/X-Ray Image DataSet/No_findings/00001968_003.png', '/content/drive/MyDrive/X-Ray Image DataSet/No_findings/00001460_004.png', '/content/drive/MyDrive/X-Ray Image DataSet/No_findings/00003748_000.png', '/content/drive/MyDrive/X-Ray Image DataSet/No_findings/00001568_000.png', '/content/drive/MyDrive/X-Ray Image DataSet/No_findings/00001719_000.png', '/content/drive/MyDrive/X-Ray Image DataSet/No_findings/00001684_010.png', '/content/drive/MyDrive/X-Ray Image DataSet/No_findings/00002549_003.png', '/content/drive/MyDrive/X-Ray Image DataSet/No_findings/00003847_010.png', '/content/drive/MyDrive/X-Ray Image DataSet/No_findings/00003005_002.png', '/content/drive/MyDrive/X-Ray Image DataSet/No_findings/00001315_006.png', '/content/drive/MyDrive/X-Ray Image DataSet/No_findings/00003367_003.png', '/content/drive/MyDrive/X-Ray Image DataSet/No_findings/00003140_005.png', '/content/drive/MyDrive/X-Ray Image DataSet/No_findings/00001543_000.png', '/content/drive/MyDrive/X-Ray Image DataSet/No_findings/00003324_000.png', '/content/drive/MyDrive/X-Ray Image DataSet/No_findings/00003384_000.png', '/content/drive/MyDrive/X-Ray Image DataSet/No_findings/00001720_002.png', '/content/drive/MyDrive/X-Ray Image DataSet/No_findings/00002860_024.png', '/content/drive/MyDrive/X-Ray Image DataSet/No_findings/00002582_008.png', '/content/drive/MyDrive/X-Ray Image DataSet/No_findings/00003005_012.png', '/content/drive/MyDrive/X-Ray Image DataSet/No_findings/00003140_008.png', '/content/drive/MyDrive/X-Ray Image DataSet/No_findings/00003758_005.png', '/content/drive/MyDrive/X-Ray Image DataSet/No_findings/00001280_004.png', '/content/drive/MyDrive/X-Ray Image DataSet/No_findings/00001543_001.png', '/content/drive/MyDrive/X-Ray Image DataSet/No_findings/00002939_002.png', '/content/drive/MyDrive/X-Ray Image DataSet/No_findings/00001620_003.png', '/content/drive/MyDrive/X-Ray Image DataSet/No_findings/00003461_000.png', '/content/drive/MyDrive/X-Ray Image DataSet/No_findings/00002922_000.png', '/content/drive/MyDrive/X-Ray Image DataSet/No_findings/00002904_000.png', '/content/drive/MyDrive/X-Ray Image DataSet/No_findings/00002556_000.png', '/content/drive/MyDrive/X-Ray Image DataSet/No_findings/00003759_001.png', '/content/drive/MyDrive/X-Ray Image DataSet/No_findings/00003053_001.png', '/content/drive/MyDrive/X-Ray Image DataSet/No_findings/00001921_002.png', '/content/drive/MyDrive/X-Ray Image DataSet/No_findings/00003490_011.png', '/content/drive/MyDrive/X-Ray Image DataSet/No_findings/00003847_005.png', '/content/drive/MyDrive/X-Ray Image DataSet/No_findings/00001992_016.png', '/content/drive/MyDrive/X-Ray Image DataSet/No_findings/00003140_016.png', '/content/drive/MyDrive/X-Ray Image DataSet/No_findings/00001305_001.png', '/content/drive/MyDrive/X-Ray Image DataSet/No_findings/00002633_021.png', '/content/drive/MyDrive/X-Ray Image DataSet/No_findings/00001629_001.png', '/content/drive/MyDrive/X-Ray Image DataSet/No_findings/00001864_003.png', '/content/drive/MyDrive/X-Ray Image DataSet/No_findings/00001362_004.png', '/content/drive/MyDrive/X-Ray Image DataSet/No_findings/00001803_002.png', '/content/drive/MyDrive/X-Ray Image DataSet/No_findings/00001697_014.png', '/content/drive/MyDrive/X-Ray Image DataSet/No_findings/00001699_000.png', '/content/drive/MyDrive/X-Ray Image DataSet/No_findings/00001689_011.png', '/content/drive/MyDrive/X-Ray Image DataSet/No_findings/00001684_000.png', '/content/drive/MyDrive/X-Ray Image DataSet/No_findings/00003392_021.png', '/content/drive/MyDrive/X-Ray Image DataSet/No_findings/00003539_003.png', '/content/drive/MyDrive/X-Ray Image DataSet/No_findings/00003562_001.png', '/content/drive/MyDrive/X-Ray Image DataSet/No_findings/00002376_001.png', '/content/drive/MyDrive/X-Ray Image DataSet/No_findings/00001974_001.png', '/content/drive/MyDrive/X-Ray Image DataSet/No_findings/00001616_009.png', '/content/drive/MyDrive/X-Ray Image DataSet/No_findings/00002048_014.png', '/content/drive/MyDrive/X-Ray Image DataSet/No_findings/00003426_015.png', '/content/drive/MyDrive/X-Ray Image DataSet/No_findings/00001300_000.png', '/content/drive/MyDrive/X-Ray Image DataSet/No_findings/00002572_003.png', '/content/drive/MyDrive/X-Ray Image DataSet/No_findings/00003759_002.png', '/content/drive/MyDrive/X-Ray Image DataSet/No_findings/00003560_001.png', '/content/drive/MyDrive/X-Ray Image DataSet/No_findings/00002728_003.png', '/content/drive/MyDrive/X-Ray Image DataSet/No_findings/00002344_002.png', '/content/drive/MyDrive/X-Ray Image DataSet/No_findings/00001684_021.png', '/content/drive/MyDrive/X-Ray Image DataSet/No_findings/00003908_000.png', '/content/drive/MyDrive/X-Ray Image DataSet/No_findings/00002679_000.png', '/content/drive/MyDrive/X-Ray Image DataSet/No_findings/00002429_000.png', '/content/drive/MyDrive/X-Ray Image DataSet/No_findings/00003611_007.png', '/content/drive/MyDrive/X-Ray Image DataSet/No_findings/00001568_004.png', '/content/drive/MyDrive/X-Ray Image DataSet/No_findings/00002649_008.png', '/content/drive/MyDrive/X-Ray Image DataSet/No_findings/00003361_012.png', '/content/drive/MyDrive/X-Ray Image DataSet/No_findings/00002915_002.png', '/content/drive/MyDrive/X-Ray Image DataSet/No_findings/00001935_000.png', '/content/drive/MyDrive/X-Ray Image DataSet/No_findings/00003535_019.png', '/content/drive/MyDrive/X-Ray Image DataSet/No_findings/00002184_002.png', '/content/drive/MyDrive/X-Ray Image DataSet/No_findings/00003426_016.png', '/content/drive/MyDrive/X-Ray Image DataSet/No_findings/00001801_000.png', '/content/drive/MyDrive/X-Ray Image DataSet/No_findings/00002555_000.png', '/content/drive/MyDrive/X-Ray Image DataSet/No_findings/00002032_003.png', '/content/drive/MyDrive/X-Ray Image DataSet/No_findings/00001433_002.png', '/content/drive/MyDrive/X-Ray Image DataSet/No_findings/00001986_011.png', '/content/drive/MyDrive/X-Ray Image DataSet/No_findings/00001689_008.png', '/content/drive/MyDrive/X-Ray Image DataSet/No_findings/00001680_000.png', '/content/drive/MyDrive/X-Ray Image DataSet/No_findings/00003896_003.png', '/content/drive/MyDrive/X-Ray Image DataSet/No_findings/00001741_002.png', '/content/drive/MyDrive/X-Ray Image DataSet/No_findings/00002594_000.png', '/content/drive/MyDrive/X-Ray Image DataSet/No_findings/00002673_010.png', '/content/drive/MyDrive/X-Ray Image DataSet/No_findings/00001389_001.png', '/content/drive/MyDrive/X-Ray Image DataSet/No_findings/00003564_000.png', '/content/drive/MyDrive/X-Ray Image DataSet/No_findings/00003249_002.png', '/content/drive/MyDrive/X-Ray Image DataSet/No_findings/00002812_001.png', '/content/drive/MyDrive/X-Ray Image DataSet/No_findings/00001629_002.png', '/content/drive/MyDrive/X-Ray Image DataSet/No_findings/00003353_003.png', '/content/drive/MyDrive/X-Ray Image DataSet/No_findings/00003158_002.png', '/content/drive/MyDrive/X-Ray Image DataSet/No_findings/00001308_002.png', '/content/drive/MyDrive/X-Ray Image DataSet/No_findings/00003930_000.png', '/content/drive/MyDrive/X-Ray Image DataSet/No_findings/00002735_002.png', '/content/drive/MyDrive/X-Ray Image DataSet/No_findings/00003370_001.png', '/content/drive/MyDrive/X-Ray Image DataSet/No_findings/00002219_008.png', '/content/drive/MyDrive/X-Ray Image DataSet/No_findings/00002576_008.png', '/content/drive/MyDrive/X-Ray Image DataSet/No_findings/00003259_000.png', '/content/drive/MyDrive/X-Ray Image DataSet/No_findings/00002037_001.png', '/content/drive/MyDrive/X-Ray Image DataSet/No_findings/00001281_000.png', '/content/drive/MyDrive/X-Ray Image DataSet/No_findings/00002058_013.png', '/content/drive/MyDrive/X-Ray Image DataSet/No_findings/00003875_007.png', '/content/drive/MyDrive/X-Ray Image DataSet/No_findings/00001395_009.png', '/content/drive/MyDrive/X-Ray Image DataSet/No_findings/00002262_010.png', '/content/drive/MyDrive/X-Ray Image DataSet/No_findings/00001483_021.png', '/content/drive/MyDrive/X-Ray Image DataSet/No_findings/00003707_000.png', '/content/drive/MyDrive/X-Ray Image DataSet/No_findings/00001769_002.png', '/content/drive/MyDrive/X-Ray Image DataSet/No_findings/00002034_000.png', '/content/drive/MyDrive/X-Ray Image DataSet/No_findings/00001754_000.png', '/content/drive/MyDrive/X-Ray Image DataSet/No_findings/00002366_001.png', '/content/drive/MyDrive/X-Ray Image DataSet/No_findings/00001951_000.png', '/content/drive/MyDrive/X-Ray Image DataSet/No_findings/00003726_002.png', '/content/drive/MyDrive/X-Ray Image DataSet/No_findings/00002981_006.png', '/content/drive/MyDrive/X-Ray Image DataSet/No_findings/00001993_002.png', '/content/drive/MyDrive/X-Ray Image DataSet/No_findings/00002572_004.png', '/content/drive/MyDrive/X-Ray Image DataSet/No_findings/00003353_004.png', '/content/drive/MyDrive/X-Ray Image DataSet/No_findings/00003490_010.png', '/content/drive/MyDrive/X-Ray Image DataSet/No_findings/00003847_011.png', '/content/drive/MyDrive/X-Ray Image DataSet/No_findings/00003393_030.png', '/content/drive/MyDrive/X-Ray Image DataSet/No_findings/00003002_014.png', '/content/drive/MyDrive/X-Ray Image DataSet/No_findings/00003535_020.png', '/content/drive/MyDrive/X-Ray Image DataSet/No_findings/00003395_003.png', '/content/drive/MyDrive/X-Ray Image DataSet/No_findings/00003646_001.png', '/content/drive/MyDrive/X-Ray Image DataSet/No_findings/00002288_010.png', '/content/drive/MyDrive/X-Ray Image DataSet/No_findings/00002819_000.png', '/content/drive/MyDrive/X-Ray Image DataSet/No_findings/00001697_015.png', '/content/drive/MyDrive/X-Ray Image DataSet/No_findings/00002262_007.png', '/content/drive/MyDrive/X-Ray Image DataSet/No_findings/00003517_000.png', '/content/drive/MyDrive/X-Ray Image DataSet/No_findings/00001807_000.png', '/content/drive/MyDrive/X-Ray Image DataSet/No_findings/00003497_001.png', '/content/drive/MyDrive/X-Ray Image DataSet/No_findings/00003426_008.png', '/content/drive/MyDrive/X-Ray Image DataSet/No_findings/00002678_005.png', '/content/drive/MyDrive/X-Ray Image DataSet/No_findings/00001684_028.png', '/content/drive/MyDrive/X-Ray Image DataSet/No_findings/00003366_002.png', '/content/drive/MyDrive/X-Ray Image DataSet/No_findings/00001445_000.png', '/content/drive/MyDrive/X-Ray Image DataSet/No_findings/00003353_006.png', '/content/drive/MyDrive/X-Ray Image DataSet/No_findings/00002457_003.png', '/content/drive/MyDrive/X-Ray Image DataSet/No_findings/00001650_000.png', '/content/drive/MyDrive/X-Ray Image DataSet/No_findings/00002311_002.png', '/content/drive/MyDrive/X-Ray Image DataSet/No_findings/00002790_003.png', '/content/drive/MyDrive/X-Ray Image DataSet/No_findings/00002726_001.png', '/content/drive/MyDrive/X-Ray Image DataSet/No_findings/00003005_022.png', '/content/drive/MyDrive/X-Ray Image DataSet/No_findings/00003324_001.png', '/content/drive/MyDrive/X-Ray Image DataSet/No_findings/00002830_000.png', '/content/drive/MyDrive/X-Ray Image DataSet/No_findings/00003392_004.png', '/content/drive/MyDrive/X-Ray Image DataSet/No_findings/00003331_000.png', '/content/drive/MyDrive/X-Ray Image DataSet/No_findings/00003510_003.png', '/content/drive/MyDrive/X-Ray Image DataSet/No_findings/00003310_000.png', '/content/drive/MyDrive/X-Ray Image DataSet/No_findings/00001573_000.png', '/content/drive/MyDrive/X-Ray Image DataSet/No_findings/00002735_001.png', '/content/drive/MyDrive/X-Ray Image DataSet/No_findings/00003956_001.png', '/content/drive/MyDrive/X-Ray Image DataSet/No_findings/00002993_001.png', '/content/drive/MyDrive/X-Ray Image DataSet/No_findings/00002086_000.png', '/content/drive/MyDrive/X-Ray Image DataSet/No_findings/00001823_000.png', '/content/drive/MyDrive/X-Ray Image DataSet/No_findings/00002218_003.png', '/content/drive/MyDrive/X-Ray Image DataSet/No_findings/00002371_012.png', '/content/drive/MyDrive/X-Ray Image DataSet/No_findings/00003580_000.png', '/content/drive/MyDrive/X-Ray Image DataSet/No_findings/00002659_001.png', '/content/drive/MyDrive/X-Ray Image DataSet/No_findings/00002577_000.png', '/content/drive/MyDrive/X-Ray Image DataSet/No_findings/00003382_009.png', '/content/drive/MyDrive/X-Ray Image DataSet/No_findings/00003291_001.png', '/content/drive/MyDrive/X-Ray Image DataSet/No_findings/00002344_008.png', '/content/drive/MyDrive/X-Ray Image DataSet/No_findings/00002505_002.png', '/content/drive/MyDrive/X-Ray Image DataSet/No_findings/00002946_000.png', '/content/drive/MyDrive/X-Ray Image DataSet/No_findings/00003140_015.png', '/content/drive/MyDrive/X-Ray Image DataSet/No_findings/00002371_010.png', '/content/drive/MyDrive/X-Ray Image DataSet/No_findings/00002016_003.png', '/content/drive/MyDrive/X-Ray Image DataSet/No_findings/00002194_003.png', '/content/drive/MyDrive/X-Ray Image DataSet/No_findings/00003806_001.png', '/content/drive/MyDrive/X-Ray Image DataSet/No_findings/00002806_003.png', '/content/drive/MyDrive/X-Ray Image DataSet/No_findings/00003552_004.png', '/content/drive/MyDrive/X-Ray Image DataSet/No_findings/00003097_003.png', '/content/drive/MyDrive/X-Ray Image DataSet/No_findings/00002540_001.png', '/content/drive/MyDrive/X-Ray Image DataSet/No_findings/00001299_000.png', '/content/drive/MyDrive/X-Ray Image DataSet/No_findings/00002582_006.png', '/content/drive/MyDrive/X-Ray Image DataSet/No_findings/00001995_004.png', '/content/drive/MyDrive/X-Ray Image DataSet/No_findings/00003407_005.png', '/content/drive/MyDrive/X-Ray Image DataSet/No_findings/00003693_006.png', '/content/drive/MyDrive/X-Ray Image DataSet/No_findings/00003361_004.png', '/content/drive/MyDrive/X-Ray Image DataSet/No_findings/00002195_002.png', '/content/drive/MyDrive/X-Ray Image DataSet/No_findings/00003966_000.png', '/content/drive/MyDrive/X-Ray Image DataSet/No_findings/00001543_003.png', '/content/drive/MyDrive/X-Ray Image DataSet/No_findings/00003510_007.png', '/content/drive/MyDrive/X-Ray Image DataSet/No_findings/00003098_010.png', '/content/drive/MyDrive/X-Ray Image DataSet/No_findings/00002464_001.png', '/content/drive/MyDrive/X-Ray Image DataSet/No_findings/00003872_002.png', '/content/drive/MyDrive/X-Ray Image DataSet/No_findings/00001362_008.png', '/content/drive/MyDrive/X-Ray Image DataSet/No_findings/00001304_001.png', '/content/drive/MyDrive/X-Ray Image DataSet/No_findings/00003601_007.png', '/content/drive/MyDrive/X-Ray Image DataSet/No_findings/00001613_003.png', '/content/drive/MyDrive/X-Ray Image DataSet/No_findings/00001803_017.png', '/content/drive/MyDrive/X-Ray Image DataSet/No_findings/00003490_013.png', '/content/drive/MyDrive/X-Ray Image DataSet/No_findings/00003392_007.png', '/content/drive/MyDrive/X-Ray Image DataSet/No_findings/00003741_002.png', '/content/drive/MyDrive/X-Ray Image DataSet/No_findings/00003478_005.png', '/content/drive/MyDrive/X-Ray Image DataSet/No_findings/00003463_001.png', '/content/drive/MyDrive/X-Ray Image DataSet/No_findings/00001697_011.png', '/content/drive/MyDrive/X-Ray Image DataSet/No_findings/00001403_002.png', '/content/drive/MyDrive/X-Ray Image DataSet/No_findings/00003176_001.png', '/content/drive/MyDrive/X-Ray Image DataSet/No_findings/00003140_003.png']\n"
          ]
        }
      ]
    },
    {
      "cell_type": "code",
      "source": [
        "X = []\n",
        "Y = []\n",
        "\n",
        "for label in images_path:\n",
        "    for image_path in images_path[label]:\n",
        "        image = cv2.imread(image_path)\n",
        "        image = cv2.resize(image,(224, 224))\n",
        "        X.append(image)\n",
        "        Y.append(images_class[label])"
      ],
      "metadata": {
        "id": "LJFtkJveyBdR"
      },
      "execution_count": null,
      "outputs": []
    },
    {
      "cell_type": "code",
      "source": [
        "X = np.array(X)\n",
        "Y = np.array(Y)\n"
      ],
      "metadata": {
        "id": "8RbtYZoQyD2B"
      },
      "execution_count": null,
      "outputs": []
    },
    {
      "cell_type": "code",
      "source": [
        "x.shape"
      ],
      "metadata": {
        "colab": {
          "base_uri": "https://localhost:8080/"
        },
        "id": "jWM5FRJ12OPB",
        "outputId": "781a2d3b-f3b6-42d0-d374-17614a327834"
      },
      "execution_count": null,
      "outputs": [
        {
          "output_type": "execute_result",
          "data": {
            "text/plain": [
              "(625, 224, 224, 3)"
            ]
          },
          "metadata": {},
          "execution_count": 7
        }
      ]
    },
    {
      "cell_type": "code",
      "source": [
        "from sklearn.model_selection import StratifiedShuffleSplit\n",
        "split = StratifiedShuffleSplit(n_splits=1, test_size=0.2, random_state=42)\n",
        "for train_index, test_index in split.split(X, y):\n",
        "    X_train = X[train_index]\n",
        "    X_test = X[test_index]\n",
        "    y_train=y[train_index]\n",
        "    y_test=y[test_index]"
      ],
      "metadata": {
        "id": "2pJ3yFtZ2PaX"
      },
      "execution_count": null,
      "outputs": []
    },
    {
      "cell_type": "code",
      "source": [
        "X_train=np.array(X_train).reshape(-1,224,224,3).astype('float32')\n",
        "y_train=np.array(y_train)\n",
        "X_test=np.array(X_test).reshape(-1,224,224,3).astype('float32')\n",
        "y_test=np.array(y_test)"
      ],
      "metadata": {
        "id": "oJ1f0P012tec"
      },
      "execution_count": null,
      "outputs": []
    },
    {
      "cell_type": "code",
      "source": [
        "X_train.shape"
      ],
      "metadata": {
        "colab": {
          "base_uri": "https://localhost:8080/"
        },
        "id": "VrC1C9n42613",
        "outputId": "85e40329-22ef-4dc1-ad8b-ba2485e16d96"
      },
      "execution_count": null,
      "outputs": [
        {
          "output_type": "execute_result",
          "data": {
            "text/plain": [
              "(500, 224, 224, 3)"
            ]
          },
          "metadata": {},
          "execution_count": 12
        }
      ]
    },
    {
      "cell_type": "code",
      "source": [
        "X_train=keras.applications.vgg16.preprocess_input(X_train)\n",
        "X_test=keras.applications.vgg16.preprocess_input(X_test)"
      ],
      "metadata": {
        "id": "6Eg00Vmo28Hc"
      },
      "execution_count": null,
      "outputs": []
    },
    {
      "cell_type": "code",
      "source": [
        "vgg=keras.applications.vgg16.VGG16(input_shape=(224,224,3),weights='imagenet',include_top=False)"
      ],
      "metadata": {
        "colab": {
          "base_uri": "https://localhost:8080/"
        },
        "id": "z85ExMt-3JXa",
        "outputId": "cb578877-c04c-4d9f-9ca0-763f8eaca428"
      },
      "execution_count": null,
      "outputs": [
        {
          "output_type": "stream",
          "name": "stdout",
          "text": [
            "Downloading data from https://storage.googleapis.com/tensorflow/keras-applications/vgg16/vgg16_weights_tf_dim_ordering_tf_kernels_notop.h5\n",
            "58892288/58889256 [==============================] - 1s 0us/step\n",
            "58900480/58889256 [==============================] - 1s 0us/step\n"
          ]
        }
      ]
    },
    {
      "cell_type": "code",
      "source": [
        "vgg.summary()"
      ],
      "metadata": {
        "colab": {
          "base_uri": "https://localhost:8080/"
        },
        "id": "P4Sub-T03RBi",
        "outputId": "32e04531-fe76-4e7d-cd23-4841a958ab0b"
      },
      "execution_count": null,
      "outputs": [
        {
          "output_type": "stream",
          "name": "stdout",
          "text": [
            "Model: \"vgg16\"\n",
            "_________________________________________________________________\n",
            " Layer (type)                Output Shape              Param #   \n",
            "=================================================================\n",
            " input_1 (InputLayer)        [(None, 224, 224, 3)]     0         \n",
            "                                                                 \n",
            " block1_conv1 (Conv2D)       (None, 224, 224, 64)      1792      \n",
            "                                                                 \n",
            " block1_conv2 (Conv2D)       (None, 224, 224, 64)      36928     \n",
            "                                                                 \n",
            " block1_pool (MaxPooling2D)  (None, 112, 112, 64)      0         \n",
            "                                                                 \n",
            " block2_conv1 (Conv2D)       (None, 112, 112, 128)     73856     \n",
            "                                                                 \n",
            " block2_conv2 (Conv2D)       (None, 112, 112, 128)     147584    \n",
            "                                                                 \n",
            " block2_pool (MaxPooling2D)  (None, 56, 56, 128)       0         \n",
            "                                                                 \n",
            " block3_conv1 (Conv2D)       (None, 56, 56, 256)       295168    \n",
            "                                                                 \n",
            " block3_conv2 (Conv2D)       (None, 56, 56, 256)       590080    \n",
            "                                                                 \n",
            " block3_conv3 (Conv2D)       (None, 56, 56, 256)       590080    \n",
            "                                                                 \n",
            " block3_pool (MaxPooling2D)  (None, 28, 28, 256)       0         \n",
            "                                                                 \n",
            " block4_conv1 (Conv2D)       (None, 28, 28, 512)       1180160   \n",
            "                                                                 \n",
            " block4_conv2 (Conv2D)       (None, 28, 28, 512)       2359808   \n",
            "                                                                 \n",
            " block4_conv3 (Conv2D)       (None, 28, 28, 512)       2359808   \n",
            "                                                                 \n",
            " block4_pool (MaxPooling2D)  (None, 14, 14, 512)       0         \n",
            "                                                                 \n",
            " block5_conv1 (Conv2D)       (None, 14, 14, 512)       2359808   \n",
            "                                                                 \n",
            " block5_conv2 (Conv2D)       (None, 14, 14, 512)       2359808   \n",
            "                                                                 \n",
            " block5_conv3 (Conv2D)       (None, 14, 14, 512)       2359808   \n",
            "                                                                 \n",
            " block5_pool (MaxPooling2D)  (None, 7, 7, 512)         0         \n",
            "                                                                 \n",
            "=================================================================\n",
            "Total params: 14,714,688\n",
            "Trainable params: 14,714,688\n",
            "Non-trainable params: 0\n",
            "_________________________________________________________________\n"
          ]
        }
      ]
    },
    {
      "cell_type": "code",
      "source": [
        "my_smaller_model =keras.models.Model(vgg.input,vgg.get_layer(\"block3_conv3\").output)\n",
        "my_smaller_model.trainable = False"
      ],
      "metadata": {
        "id": "6IqTHoB_3vWq"
      },
      "execution_count": null,
      "outputs": []
    },
    {
      "cell_type": "code",
      "source": [
        "for layer in my_smaller_model.layers:\n",
        "     layer.trainable = False"
      ],
      "metadata": {
        "id": "hcSsWYc3324H"
      },
      "execution_count": null,
      "outputs": []
    },
    {
      "cell_type": "code",
      "source": [
        "base_model_output = my_smaller_model.output\n",
        "gap = keras.layers.GlobalAveragePooling2D()(base_model_output)\n",
        "fc = keras.layers.Dense(units=256, activation=\"relu\")(gap)\n",
        "output = keras.layers.Dense(1, activation=\"sigmoid\")(fc)"
      ],
      "metadata": {
        "id": "4_EW99yd35Ye"
      },
      "execution_count": null,
      "outputs": []
    },
    {
      "cell_type": "code",
      "source": [
        "transfer_model = keras.models.Model(my_smaller_model.input, output)"
      ],
      "metadata": {
        "id": "0rXghgZS4BGr"
      },
      "execution_count": null,
      "outputs": []
    },
    {
      "cell_type": "code",
      "source": [
        "transfer_model.compile(loss=\"binary_crossentropy\",optimizer='adam',metrics=['accuracy'])"
      ],
      "metadata": {
        "id": "LgO-piif4Hfx"
      },
      "execution_count": null,
      "outputs": []
    },
    {
      "cell_type": "code",
      "source": [
        "transfer_model.fit(X_train,y_train,epochs=10)"
      ],
      "metadata": {
        "colab": {
          "base_uri": "https://localhost:8080/"
        },
        "id": "U5OetyjI4Lgn",
        "outputId": "d164d9d0-f053-4a9e-805c-843aeaa390be"
      },
      "execution_count": null,
      "outputs": [
        {
          "output_type": "stream",
          "name": "stdout",
          "text": [
            "Epoch 1/10\n",
            "16/16 [==============================] - 17s 200ms/step - loss: 32.1889 - accuracy: 0.7240\n",
            "Epoch 2/10\n",
            "16/16 [==============================] - 2s 108ms/step - loss: 2.8190 - accuracy: 0.9220\n",
            "Epoch 3/10\n",
            "16/16 [==============================] - 2s 107ms/step - loss: 1.4386 - accuracy: 0.9480\n",
            "Epoch 4/10\n",
            "16/16 [==============================] - 2s 108ms/step - loss: 0.8340 - accuracy: 0.9640\n",
            "Epoch 5/10\n",
            "16/16 [==============================] - 2s 107ms/step - loss: 0.4891 - accuracy: 0.9680\n",
            "Epoch 6/10\n",
            "16/16 [==============================] - 2s 108ms/step - loss: 0.8313 - accuracy: 0.9580\n",
            "Epoch 7/10\n",
            "16/16 [==============================] - 2s 108ms/step - loss: 0.5144 - accuracy: 0.9680\n",
            "Epoch 8/10\n",
            "16/16 [==============================] - 2s 108ms/step - loss: 0.1758 - accuracy: 0.9840\n",
            "Epoch 9/10\n",
            "16/16 [==============================] - 2s 108ms/step - loss: 0.0875 - accuracy: 0.9960\n",
            "Epoch 10/10\n",
            "16/16 [==============================] - 2s 108ms/step - loss: 0.4284 - accuracy: 0.9720\n"
          ]
        },
        {
          "output_type": "execute_result",
          "data": {
            "text/plain": [
              "<keras.callbacks.History at 0x7fa640059910>"
            ]
          },
          "metadata": {},
          "execution_count": 26
        }
      ]
    },
    {
      "cell_type": "code",
      "source": [
        "my_smaller_model.trainable = True\n",
        "for layer in my_smaller_model.layers:\n",
        "     layer.trainable = True "
      ],
      "metadata": {
        "id": "OJtFUI2f4bx7"
      },
      "execution_count": null,
      "outputs": []
    },
    {
      "cell_type": "code",
      "source": [
        "ADAM= keras.optimizers.Adam(learning_rate=0.00001)\n",
        "transfer_model.compile(loss=\"binary_crossentropy\",optimizer=ADAM,metrics=['accuracy'])"
      ],
      "metadata": {
        "id": "8ZlEOKAK4mNW"
      },
      "execution_count": null,
      "outputs": []
    },
    {
      "cell_type": "code",
      "source": [
        "transfer_model.fit(X_train,y_train,batch_size=10,epochs=20)"
      ],
      "metadata": {
        "colab": {
          "base_uri": "https://localhost:8080/"
        },
        "id": "qLPWmvRj4oAN",
        "outputId": "0a027ff4-e1db-4309-8943-54230866e457"
      },
      "execution_count": null,
      "outputs": [
        {
          "output_type": "stream",
          "name": "stdout",
          "text": [
            "Epoch 1/20\n",
            "50/50 [==============================] - 9s 102ms/step - loss: 0.3295 - accuracy: 0.9800\n",
            "Epoch 2/20\n",
            "50/50 [==============================] - 5s 102ms/step - loss: 0.7441 - accuracy: 0.9580\n",
            "Epoch 3/20\n",
            "50/50 [==============================] - 5s 102ms/step - loss: 0.5602 - accuracy: 0.9680\n",
            "Epoch 4/20\n",
            "50/50 [==============================] - 5s 102ms/step - loss: 0.0856 - accuracy: 0.9940\n",
            "Epoch 5/20\n",
            "50/50 [==============================] - 5s 103ms/step - loss: 0.4320 - accuracy: 0.9660\n",
            "Epoch 6/20\n",
            "50/50 [==============================] - 5s 103ms/step - loss: 0.1637 - accuracy: 0.9860\n",
            "Epoch 7/20\n",
            "50/50 [==============================] - 5s 103ms/step - loss: 0.0356 - accuracy: 0.9940\n",
            "Epoch 8/20\n",
            "50/50 [==============================] - 5s 104ms/step - loss: 0.0367 - accuracy: 0.9920\n",
            "Epoch 9/20\n",
            "50/50 [==============================] - 5s 104ms/step - loss: 0.0471 - accuracy: 0.9880\n",
            "Epoch 10/20\n",
            "50/50 [==============================] - 5s 104ms/step - loss: 0.0457 - accuracy: 0.9960\n",
            "Epoch 11/20\n",
            "50/50 [==============================] - 5s 104ms/step - loss: 0.0150 - accuracy: 0.9980\n",
            "Epoch 12/20\n",
            "50/50 [==============================] - 5s 105ms/step - loss: 0.2847 - accuracy: 0.9800\n",
            "Epoch 13/20\n",
            "50/50 [==============================] - 5s 105ms/step - loss: 0.0475 - accuracy: 0.9980\n",
            "Epoch 14/20\n",
            "50/50 [==============================] - 5s 105ms/step - loss: 0.0734 - accuracy: 0.9880\n",
            "Epoch 15/20\n",
            "50/50 [==============================] - 5s 105ms/step - loss: 0.0248 - accuracy: 0.9960\n",
            "Epoch 16/20\n",
            "50/50 [==============================] - 5s 105ms/step - loss: 0.0610 - accuracy: 0.9900\n",
            "Epoch 17/20\n",
            "50/50 [==============================] - 5s 105ms/step - loss: 0.0226 - accuracy: 0.9980\n",
            "Epoch 18/20\n",
            "50/50 [==============================] - 5s 106ms/step - loss: 0.0271 - accuracy: 0.9940\n",
            "Epoch 19/20\n",
            "50/50 [==============================] - 5s 106ms/step - loss: 0.2477 - accuracy: 0.9860\n",
            "Epoch 20/20\n",
            "50/50 [==============================] - 5s 106ms/step - loss: 0.0115 - accuracy: 0.9960\n"
          ]
        },
        {
          "output_type": "execute_result",
          "data": {
            "text/plain": [
              "<keras.callbacks.History at 0x7fa5d65dcbd0>"
            ]
          },
          "metadata": {},
          "execution_count": 29
        }
      ]
    },
    {
      "cell_type": "code",
      "source": [
        "mse_test = transfer_model.evaluate(X_test, y_test)"
      ],
      "metadata": {
        "colab": {
          "base_uri": "https://localhost:8080/"
        },
        "id": "hVdwzO5a4tBU",
        "outputId": "99ed3baa-2198-40ed-ea85-9220478c269a"
      },
      "execution_count": null,
      "outputs": [
        {
          "output_type": "stream",
          "name": "stdout",
          "text": [
            "4/4 [==============================] - 3s 742ms/step - loss: 0.7594 - accuracy: 0.9760\n"
          ]
        }
      ]
    },
    {
      "cell_type": "code",
      "source": [],
      "metadata": {
        "id": "pbSYF6ex5KrN"
      },
      "execution_count": null,
      "outputs": []
    }
  ]
}