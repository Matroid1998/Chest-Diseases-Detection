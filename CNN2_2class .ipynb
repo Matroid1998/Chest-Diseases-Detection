{
  "nbformat": 4,
  "nbformat_minor": 0,
  "metadata": {
    "colab": {
      "provenance": [],
      "machine_shape": "hm"
    },
    "kernelspec": {
      "name": "python3",
      "display_name": "Python 3"
    },
    "language_info": {
      "name": "python"
    },
    "accelerator": "GPU",
    "gpuClass": "standard"
  },
  "cells": [
    {
      "cell_type": "code",
      "execution_count": null,
      "metadata": {
        "id": "__cklLoHzcMV"
      },
      "outputs": [],
      "source": [
        "from glob import glob\n",
        "import cv2\n",
        "from matplotlib import pyplot as plt\n",
        "import numpy as np\n",
        "from sklearn.model_selection import cross_validate, KFold, cross_val_predict, train_test_split\n",
        "import tensorflow as tf\n",
        "from tensorflow import keras\n",
        "from keras.regularizers import l2"
      ]
    },
    {
      "cell_type": "code",
      "source": [
        "from google.colab import drive\n",
        "drive.mount('/content/drive')"
      ],
      "metadata": {
        "colab": {
          "base_uri": "https://localhost:8080/"
        },
        "id": "wN-1wQQUzfhJ",
        "outputId": "0aaaf0aa-11f3-4bcf-eef0-267e8db09938"
      },
      "execution_count": null,
      "outputs": [
        {
          "output_type": "stream",
          "name": "stdout",
          "text": [
            "Mounted at /content/drive\n"
          ]
        }
      ]
    },
    {
      "cell_type": "code",
      "source": [
        "images_path = {}\n",
        "images_path[\"Covid\"] = glob(\"/content/drive/MyDrive/X-Ray Image DataSet/Covid-19/*.png\")\n",
        "images_path[\"Covid\"] += glob(\"/content/drive/MyDrive/X-Ray Image DataSet/Covid-19/*.jpeg\")\n",
        "images_path[\"Covid\"] += glob(\"/content/drive/MyDrive/X-Ray Image DataSet/Covid-19/*.jpg\")\n",
        "\n",
        "images_path[\"NoFindings\"] = glob(\"/content/drive/MyDrive/X-Ray Image DataSet/No_findings/*.png\")\n",
        "images_path[\"NoFindings\"] += glob(\"/content/drive/MyDrive/X-Ray Image DataSet/No_findings/*.jpeg\")\n",
        "images_path[\"NoFindings\"] += glob(\"/content/drive/MyDrive/X-Ray Image DataSet/No_findings/*.jpg\")\n",
        "images_class = {\n",
        "    \"Covid\": 0,\n",
        "\n",
        "    \"NoFindings\": 1\n",
        "}"
      ],
      "metadata": {
        "id": "G8hDJivGzglT"
      },
      "execution_count": null,
      "outputs": []
    },
    {
      "cell_type": "code",
      "source": [
        "X = []\n",
        "Y = []\n",
        "\n",
        "for label in images_path:\n",
        "    for image_path in images_path[label]:\n",
        "        image = cv2.imread(image_path,0)\n",
        "        image = cv2.resize(image,(512, 512))\n",
        "        equ = cv2.equalizeHist(image)\n",
        "        X.append(equ)\n",
        "        Y.append(images_class[label])"
      ],
      "metadata": {
        "id": "-SZqdTBUzvk-"
      },
      "execution_count": null,
      "outputs": []
    },
    {
      "cell_type": "code",
      "source": [
        "X = np.array(X)\n",
        "Y = np.array(Y)\n",
        "X=X/255\n",
        "from sklearn.model_selection import StratifiedShuffleSplit\n",
        "split = StratifiedShuffleSplit(n_splits=1, test_size=0.2)\n",
        "for train_index, test_index in split.split(X, Y):\n",
        "    X_train = X[train_index]\n",
        "    X_test = X[test_index]\n",
        "    y_train=Y[train_index]\n",
        "    y_test=Y[test_index]"
      ],
      "metadata": {
        "id": "qi10n6YxzxJ4"
      },
      "execution_count": null,
      "outputs": []
    },
    {
      "cell_type": "code",
      "source": [
        "X_train=np.array(X_train).reshape(-1,512,512,1).astype('float32')\n",
        "y_train=np.array(y_train)\n",
        "X_test=np.array(X_test).reshape(-1,512,512,1).astype('float32')\n",
        "y_test=np.array(y_test)"
      ],
      "metadata": {
        "id": "2NoOAr4nzyde"
      },
      "execution_count": null,
      "outputs": []
    },
    {
      "cell_type": "code",
      "source": [
        "input = tf.keras.layers.Input(X_train.shape[1:])\n",
        "conv1=tf.keras.layers.Conv2D(filters=8,kernel_size=(7,7),kernel_initializer='he_normal',padding='same',kernel_regularizer=l2(0.0002))(input)\n",
        "bn1=tf.keras.layers.BatchNormalization()(conv1)\n",
        "lrelu1=tf.keras.layers.LeakyReLU(0.1)(bn1)\n",
        "\n",
        "conv2=tf.keras.layers.Conv2D(filters=8,kernel_size=(3,3),kernel_initializer='he_normal',padding='same',kernel_regularizer=l2(0.0002))(lrelu1)\n",
        "bn2=tf.keras.layers.BatchNormalization()(conv2)\n",
        "lrelu2=tf.keras.layers.LeakyReLU(0.1)(bn1)\n",
        "Max_pool0=tf.keras.layers.MaxPool2D(pool_size=2)(lrelu2)\n",
        "\n",
        "conv3=tf.keras.layers.Conv2D(filters=16,kernel_size=(7,7),kernel_initializer='he_normal',padding='same',kernel_regularizer=l2(0.0002))(Max_pool0)\n",
        "bn3=tf.keras.layers.BatchNormalization()(conv3)\n",
        "lrelu3=tf.keras.layers.LeakyReLU(0.1)(bn3)\n",
        "\n",
        "conv4=tf.keras.layers.Conv2D(filters=16,kernel_size=(3,3),kernel_initializer='he_normal',padding='same',kernel_regularizer=l2(0.0002))(lrelu3)\n",
        "bn4=tf.keras.layers.BatchNormalization()(conv4)\n",
        "lrelu4=tf.keras.layers.LeakyReLU(0.1)(bn4)\n",
        "Max_pool1=tf.keras.layers.MaxPool2D(pool_size=2)(lrelu4)\n",
        "\n",
        "conv5=tf.keras.layers.Conv2D(filters=32,kernel_size=(7,7),kernel_initializer='he_normal',padding='same',kernel_regularizer=l2(0.0002))(Max_pool1)\n",
        "bn5=tf.keras.layers.BatchNormalization()(conv5)\n",
        "lrelu5=tf.keras.layers.LeakyReLU(0.1)(bn5)\n",
        "\n",
        "conv6=tf.keras.layers.Conv2D(filters=32,kernel_size=(3,3),kernel_initializer='he_normal',padding='same',kernel_regularizer=l2(0.0002))(lrelu5)\n",
        "bn6=tf.keras.layers.BatchNormalization()(conv6)\n",
        "lrelu6=tf.keras.layers.LeakyReLU(0.1)(bn6)\n",
        "\n",
        "conv7=tf.keras.layers.Conv2D(filters=32,kernel_size=(3,3),kernel_initializer='he_normal',padding='same',kernel_regularizer=l2(0.0002))(lrelu6)\n",
        "bn7=tf.keras.layers.BatchNormalization()(conv7)\n",
        "lrelu7=tf.keras.layers.LeakyReLU(0.1)(bn7)\n",
        "\n",
        "conv8=tf.keras.layers.Conv2D(filters=32,kernel_size=(3,3),kernel_initializer='he_normal',padding='same',kernel_regularizer=l2(0.0002))(lrelu7)\n",
        "bn8=tf.keras.layers.BatchNormalization()(conv8)\n",
        "lrelu8=tf.keras.layers.LeakyReLU(0.1)(bn8)\n",
        "added1_1 = tf.keras.layers.Add()([lrelu8,lrelu6])\n",
        "add1_1=tf.keras.layers.ReLU()(added1_1)\n",
        "Max_pool2=tf.keras.layers.MaxPool2D(pool_size=2)(add1_1)\n",
        "\n",
        "conv9=tf.keras.layers.Conv2D(filters=64,kernel_size=(7,7),kernel_initializer='he_normal',padding='same',kernel_regularizer=l2(0.0002))(Max_pool2)\n",
        "bn9=tf.keras.layers.BatchNormalization()(conv9)\n",
        "lrelu9=tf.keras.layers.LeakyReLU(0.1)(bn9)\n",
        "\n",
        "conv10=tf.keras.layers.Conv2D(filters=64,kernel_size=(3,3),kernel_initializer='he_normal',padding='same',kernel_regularizer=l2(0.0002))(lrelu9)\n",
        "bn10=tf.keras.layers.BatchNormalization()(conv10)\n",
        "lrelu10=tf.keras.layers.LeakyReLU(0.1)(bn10)\n",
        "\n",
        "conv11=tf.keras.layers.Conv2D(filters=64,kernel_size=(3,3),kernel_initializer='he_normal',padding='same',kernel_regularizer=l2(0.0002))(lrelu10)\n",
        "bn11=tf.keras.layers.BatchNormalization()(conv11)\n",
        "lrelu11=tf.keras.layers.LeakyReLU(0.1)(bn11)\n",
        "\n",
        "conv12=tf.keras.layers.Conv2D(filters=64,kernel_size=(3,3),kernel_initializer='he_normal',padding='same',kernel_regularizer=l2(0.0002))(lrelu11)\n",
        "bn12=tf.keras.layers.BatchNormalization()(conv12)\n",
        "lrelu12=tf.keras.layers.LeakyReLU(0.1)(bn12)\n",
        "added2 = tf.keras.layers.Add()([lrelu10,lrelu12])\n",
        "add2=tf.keras.layers.ReLU()(added2)\n",
        "Max_pool3=tf.keras.layers.MaxPool2D(pool_size=2)(add2)\n",
        "\n",
        "conv13=tf.keras.layers.Conv2D(filters=128,kernel_size=(3,3),kernel_initializer='he_normal',padding='same',kernel_regularizer=l2(0.0002))(Max_pool3)\n",
        "bn13=tf.keras.layers.BatchNormalization()(conv13)\n",
        "lrelu13=tf.keras.layers.LeakyReLU(0.1)(bn13)\n",
        "\n",
        "conv14=tf.keras.layers.Conv2D(filters=128,kernel_size=(3,3),kernel_initializer='he_normal',padding='same',kernel_regularizer=l2(0.0002))(lrelu13)\n",
        "bn14=tf.keras.layers.BatchNormalization()(conv14)\n",
        "lrelu14=tf.keras.layers.LeakyReLU(0.1)(bn14)\n",
        "\n",
        "conv15=tf.keras.layers.Conv2D(filters=128,kernel_size=(3,3),kernel_initializer='he_normal',padding='same',kernel_regularizer=l2(0.0002))(lrelu14)\n",
        "bn15=tf.keras.layers.BatchNormalization()(conv15)\n",
        "lrelu15=tf.keras.layers.LeakyReLU(0.1)(bn15)\n",
        "\n",
        "conv16=tf.keras.layers.Conv2D(filters=128,kernel_size=(3,3),kernel_initializer='he_normal',padding='same',kernel_regularizer=l2(0.0002))(lrelu15)\n",
        "bn16=tf.keras.layers.BatchNormalization()(conv16)\n",
        "lrelu16=tf.keras.layers.LeakyReLU(0.1)(bn16)\n",
        "added3 = tf.keras.layers.Add()([lrelu14,lrelu16])\n",
        "add3=tf.keras.layers.ReLU()(added3)\n",
        "Max_pool4=tf.keras.layers.MaxPool2D(pool_size=2)(add3)\n",
        "\n",
        "conv17=tf.keras.layers.Conv2D(filters=256,kernel_size=(3,3),kernel_initializer='he_normal',padding='same',kernel_regularizer=l2(0.0002))(Max_pool4)\n",
        "bn17=tf.keras.layers.BatchNormalization()(conv17)\n",
        "lrelu17=tf.keras.layers.LeakyReLU(0.1)(bn17)\n",
        "\n",
        "conv18=tf.keras.layers.Conv2D(filters=256,kernel_size=(3,3),kernel_initializer='he_normal',padding='same',kernel_regularizer=l2(0.0002))(lrelu17)\n",
        "bn18=tf.keras.layers.BatchNormalization()(conv18)\n",
        "lrelu18=tf.keras.layers.LeakyReLU(0.1)(bn18)\n",
        "\n",
        "conv19=tf.keras.layers.Conv2D(filters=256,kernel_size=(3,3),kernel_initializer='he_normal',padding='same',kernel_regularizer=l2(0.0002))(lrelu18)\n",
        "bn19=tf.keras.layers.BatchNormalization()(conv19)\n",
        "lrelu19=tf.keras.layers.LeakyReLU(0.1)(bn19)\n",
        "\n",
        "gap =tf.keras.layers.GlobalAveragePooling2D()(lrelu19)\n",
        "fc1 =tf.keras.layers.Dense(units=512, activation=\"relu\",kernel_initializer=\"he_normal\",kernel_regularizer=l2(0.0002))(gap)\n",
        "BN1C=tf.keras.layers.BatchNormalization()(fc1)\n",
        "output =tf.keras.layers.Dense(1, activation=\"sigmoid\")(BN1C)"
      ],
      "metadata": {
        "id": "O3pRSqVGzzsN"
      },
      "execution_count": null,
      "outputs": []
    },
    {
      "cell_type": "code",
      "source": [
        "my_model =tf.keras.models.Model(inputs=input, outputs=output)\n",
        "my_model.compile(loss=\"binary_crossentropy\",optimizer=tf.keras.optimizers.Adam(learning_rate=5e-5),metrics=['accuracy'])"
      ],
      "metadata": {
        "id": "yyB8xYmsz4Lj"
      },
      "execution_count": null,
      "outputs": []
    },
    {
      "cell_type": "code",
      "source": [
        "my_model.fit(X_train, y_train,epochs=60,batch_size=8,validation_split=0.05)\n"
      ],
      "metadata": {
        "id": "PybryVWwz9Ik",
        "colab": {
          "base_uri": "https://localhost:8080/"
        },
        "outputId": "4ce87bb3-16d8-4ab9-ddbd-b5d838ddf563"
      },
      "execution_count": null,
      "outputs": [
        {
          "output_type": "stream",
          "name": "stdout",
          "text": [
            "Epoch 1/60\n",
            "60/60 [==============================] - 20s 89ms/step - loss: 1.3415 - accuracy: 0.7747 - val_loss: 1.5624 - val_accuracy: 0.7200\n",
            "Epoch 2/60\n",
            "60/60 [==============================] - 4s 68ms/step - loss: 1.2448 - accuracy: 0.8821 - val_loss: 1.4675 - val_accuracy: 0.8400\n",
            "Epoch 3/60\n",
            "60/60 [==============================] - 4s 68ms/step - loss: 1.1579 - accuracy: 0.9011 - val_loss: 1.3650 - val_accuracy: 0.8400\n",
            "Epoch 4/60\n",
            "60/60 [==============================] - 4s 67ms/step - loss: 1.1658 - accuracy: 0.9095 - val_loss: 1.3033 - val_accuracy: 0.8400\n",
            "Epoch 5/60\n",
            "60/60 [==============================] - 4s 67ms/step - loss: 1.0920 - accuracy: 0.9200 - val_loss: 1.2871 - val_accuracy: 0.8400\n",
            "Epoch 6/60\n",
            "60/60 [==============================] - 4s 67ms/step - loss: 1.0702 - accuracy: 0.9305 - val_loss: 1.1255 - val_accuracy: 0.8800\n",
            "Epoch 7/60\n",
            "60/60 [==============================] - 4s 67ms/step - loss: 1.0892 - accuracy: 0.9158 - val_loss: 1.0294 - val_accuracy: 0.9600\n",
            "Epoch 8/60\n",
            "60/60 [==============================] - 4s 67ms/step - loss: 1.0564 - accuracy: 0.9432 - val_loss: 1.0280 - val_accuracy: 0.9600\n",
            "Epoch 9/60\n",
            "60/60 [==============================] - 4s 67ms/step - loss: 1.0164 - accuracy: 0.9537 - val_loss: 0.9986 - val_accuracy: 0.9600\n",
            "Epoch 10/60\n",
            "60/60 [==============================] - 4s 67ms/step - loss: 1.0281 - accuracy: 0.9516 - val_loss: 0.8979 - val_accuracy: 1.0000\n",
            "Epoch 11/60\n",
            "60/60 [==============================] - 4s 67ms/step - loss: 0.9866 - accuracy: 0.9705 - val_loss: 0.9665 - val_accuracy: 1.0000\n",
            "Epoch 12/60\n",
            "60/60 [==============================] - 4s 67ms/step - loss: 1.0359 - accuracy: 0.9389 - val_loss: 1.0015 - val_accuracy: 0.9600\n",
            "Epoch 13/60\n",
            "60/60 [==============================] - 4s 66ms/step - loss: 0.9776 - accuracy: 0.9663 - val_loss: 0.8915 - val_accuracy: 1.0000\n",
            "Epoch 14/60\n",
            "60/60 [==============================] - 4s 66ms/step - loss: 0.9971 - accuracy: 0.9684 - val_loss: 0.8918 - val_accuracy: 1.0000\n",
            "Epoch 15/60\n",
            "60/60 [==============================] - 4s 66ms/step - loss: 0.9637 - accuracy: 0.9768 - val_loss: 0.9678 - val_accuracy: 1.0000\n",
            "Epoch 16/60\n",
            "60/60 [==============================] - 4s 66ms/step - loss: 0.9413 - accuracy: 0.9789 - val_loss: 1.4303 - val_accuracy: 0.7600\n",
            "Epoch 17/60\n",
            "60/60 [==============================] - 4s 66ms/step - loss: 0.9605 - accuracy: 0.9811 - val_loss: 0.8837 - val_accuracy: 1.0000\n",
            "Epoch 18/60\n",
            "60/60 [==============================] - 4s 67ms/step - loss: 0.9604 - accuracy: 0.9768 - val_loss: 0.8829 - val_accuracy: 1.0000\n",
            "Epoch 19/60\n",
            "60/60 [==============================] - 4s 67ms/step - loss: 0.9787 - accuracy: 0.9642 - val_loss: 0.8648 - val_accuracy: 1.0000\n",
            "Epoch 20/60\n",
            "60/60 [==============================] - 4s 67ms/step - loss: 0.9563 - accuracy: 0.9832 - val_loss: 0.8736 - val_accuracy: 1.0000\n",
            "Epoch 21/60\n",
            "60/60 [==============================] - 4s 67ms/step - loss: 0.9340 - accuracy: 0.9916 - val_loss: 0.8612 - val_accuracy: 1.0000\n",
            "Epoch 22/60\n",
            "60/60 [==============================] - 4s 67ms/step - loss: 0.9196 - accuracy: 0.9937 - val_loss: 0.8639 - val_accuracy: 1.0000\n",
            "Epoch 23/60\n",
            "60/60 [==============================] - 4s 67ms/step - loss: 0.9447 - accuracy: 0.9789 - val_loss: 0.8551 - val_accuracy: 1.0000\n",
            "Epoch 24/60\n",
            "60/60 [==============================] - 4s 67ms/step - loss: 0.9085 - accuracy: 1.0000 - val_loss: 0.9101 - val_accuracy: 0.9600\n",
            "Epoch 25/60\n",
            "60/60 [==============================] - 4s 67ms/step - loss: 0.8978 - accuracy: 0.9958 - val_loss: 0.8513 - val_accuracy: 1.0000\n",
            "Epoch 26/60\n",
            "60/60 [==============================] - 4s 67ms/step - loss: 0.9204 - accuracy: 0.9958 - val_loss: 0.9616 - val_accuracy: 0.9600\n",
            "Epoch 27/60\n",
            "60/60 [==============================] - 4s 67ms/step - loss: 0.9048 - accuracy: 0.9916 - val_loss: 0.8944 - val_accuracy: 1.0000\n",
            "Epoch 28/60\n",
            "60/60 [==============================] - 4s 67ms/step - loss: 0.8821 - accuracy: 1.0000 - val_loss: 0.8458 - val_accuracy: 1.0000\n",
            "Epoch 29/60\n",
            "60/60 [==============================] - 4s 66ms/step - loss: 0.8967 - accuracy: 0.9979 - val_loss: 1.1977 - val_accuracy: 0.8800\n",
            "Epoch 30/60\n",
            "60/60 [==============================] - 4s 66ms/step - loss: 0.9154 - accuracy: 0.9832 - val_loss: 0.8571 - val_accuracy: 1.0000\n",
            "Epoch 31/60\n",
            "60/60 [==============================] - 4s 66ms/step - loss: 0.8732 - accuracy: 1.0000 - val_loss: 0.8424 - val_accuracy: 1.0000\n",
            "Epoch 32/60\n",
            "60/60 [==============================] - 4s 66ms/step - loss: 0.8716 - accuracy: 0.9958 - val_loss: 0.8393 - val_accuracy: 1.0000\n",
            "Epoch 33/60\n",
            "60/60 [==============================] - 4s 66ms/step - loss: 0.8754 - accuracy: 0.9937 - val_loss: 0.8379 - val_accuracy: 1.0000\n",
            "Epoch 34/60\n",
            "60/60 [==============================] - 4s 66ms/step - loss: 0.9084 - accuracy: 0.9874 - val_loss: 0.8384 - val_accuracy: 1.0000\n",
            "Epoch 35/60\n",
            "60/60 [==============================] - 4s 66ms/step - loss: 0.8746 - accuracy: 0.9979 - val_loss: 0.9629 - val_accuracy: 0.9200\n",
            "Epoch 36/60\n",
            "60/60 [==============================] - 4s 67ms/step - loss: 0.8615 - accuracy: 1.0000 - val_loss: 0.8416 - val_accuracy: 1.0000\n",
            "Epoch 37/60\n",
            "60/60 [==============================] - 4s 66ms/step - loss: 0.8786 - accuracy: 0.9937 - val_loss: 5.1384 - val_accuracy: 0.4800\n",
            "Epoch 38/60\n",
            "60/60 [==============================] - 4s 66ms/step - loss: 0.9057 - accuracy: 0.9832 - val_loss: 0.9979 - val_accuracy: 0.9600\n",
            "Epoch 39/60\n",
            "60/60 [==============================] - 4s 66ms/step - loss: 0.8829 - accuracy: 0.9895 - val_loss: 0.9397 - val_accuracy: 0.9600\n",
            "Epoch 40/60\n",
            "60/60 [==============================] - 4s 66ms/step - loss: 0.8621 - accuracy: 0.9937 - val_loss: 0.8332 - val_accuracy: 1.0000\n",
            "Epoch 41/60\n",
            "60/60 [==============================] - 4s 66ms/step - loss: 0.8751 - accuracy: 0.9916 - val_loss: 0.8245 - val_accuracy: 1.0000\n",
            "Epoch 42/60\n",
            "60/60 [==============================] - 4s 66ms/step - loss: 0.8677 - accuracy: 0.9958 - val_loss: 0.8725 - val_accuracy: 1.0000\n",
            "Epoch 43/60\n",
            "60/60 [==============================] - 4s 66ms/step - loss: 0.8475 - accuracy: 0.9979 - val_loss: 0.8862 - val_accuracy: 1.0000\n",
            "Epoch 44/60\n",
            "60/60 [==============================] - 4s 66ms/step - loss: 0.8495 - accuracy: 1.0000 - val_loss: 0.8233 - val_accuracy: 1.0000\n",
            "Epoch 45/60\n",
            "60/60 [==============================] - 4s 66ms/step - loss: 0.8332 - accuracy: 1.0000 - val_loss: 0.8220 - val_accuracy: 1.0000\n",
            "Epoch 46/60\n",
            "60/60 [==============================] - 4s 66ms/step - loss: 0.8530 - accuracy: 0.9979 - val_loss: 0.9058 - val_accuracy: 0.9200\n",
            "Epoch 47/60\n",
            "60/60 [==============================] - 4s 66ms/step - loss: 0.8358 - accuracy: 1.0000 - val_loss: 0.8154 - val_accuracy: 1.0000\n",
            "Epoch 48/60\n",
            "60/60 [==============================] - 4s 66ms/step - loss: 0.8342 - accuracy: 1.0000 - val_loss: 0.8155 - val_accuracy: 1.0000\n",
            "Epoch 49/60\n",
            "60/60 [==============================] - 4s 66ms/step - loss: 0.8277 - accuracy: 1.0000 - val_loss: 0.8115 - val_accuracy: 1.0000\n",
            "Epoch 50/60\n",
            "60/60 [==============================] - 4s 66ms/step - loss: 0.8162 - accuracy: 1.0000 - val_loss: 0.8074 - val_accuracy: 1.0000\n",
            "Epoch 51/60\n",
            "60/60 [==============================] - 4s 66ms/step - loss: 0.8237 - accuracy: 1.0000 - val_loss: 0.8067 - val_accuracy: 1.0000\n",
            "Epoch 52/60\n",
            "60/60 [==============================] - 4s 66ms/step - loss: 0.8239 - accuracy: 0.9979 - val_loss: 0.8042 - val_accuracy: 1.0000\n",
            "Epoch 53/60\n",
            "60/60 [==============================] - 4s 66ms/step - loss: 0.8200 - accuracy: 1.0000 - val_loss: 0.8301 - val_accuracy: 1.0000\n",
            "Epoch 54/60\n",
            "60/60 [==============================] - 4s 66ms/step - loss: 0.8581 - accuracy: 0.9874 - val_loss: 2.4173 - val_accuracy: 0.6000\n",
            "Epoch 55/60\n",
            "60/60 [==============================] - 4s 66ms/step - loss: 0.8184 - accuracy: 1.0000 - val_loss: 1.2048 - val_accuracy: 0.9200\n",
            "Epoch 56/60\n",
            "60/60 [==============================] - 4s 66ms/step - loss: 0.8238 - accuracy: 0.9895 - val_loss: 0.8918 - val_accuracy: 0.9600\n",
            "Epoch 57/60\n",
            "60/60 [==============================] - 4s 66ms/step - loss: 0.8158 - accuracy: 0.9979 - val_loss: 0.7942 - val_accuracy: 1.0000\n",
            "Epoch 58/60\n",
            "60/60 [==============================] - 4s 66ms/step - loss: 0.8098 - accuracy: 1.0000 - val_loss: 0.8014 - val_accuracy: 1.0000\n",
            "Epoch 59/60\n",
            "60/60 [==============================] - 4s 66ms/step - loss: 0.8075 - accuracy: 1.0000 - val_loss: 0.7931 - val_accuracy: 1.0000\n",
            "Epoch 60/60\n",
            "60/60 [==============================] - 4s 66ms/step - loss: 0.7977 - accuracy: 1.0000 - val_loss: 0.7897 - val_accuracy: 1.0000\n"
          ]
        },
        {
          "output_type": "execute_result",
          "data": {
            "text/plain": [
              "<keras.callbacks.History at 0x7fe0402cf550>"
            ]
          },
          "metadata": {},
          "execution_count": 9
        }
      ]
    },
    {
      "cell_type": "code",
      "source": [
        "mse_test = my_model.evaluate(X_test, y_test)"
      ],
      "metadata": {
        "colab": {
          "base_uri": "https://localhost:8080/"
        },
        "id": "Mv99FEvv0SEb",
        "outputId": "f3c67cb0-952a-44b3-aab8-9d9f52959884"
      },
      "execution_count": null,
      "outputs": [
        {
          "output_type": "stream",
          "name": "stdout",
          "text": [
            "4/4 [==============================] - 0s 59ms/step - loss: 0.7923 - accuracy: 1.0000\n"
          ]
        }
      ]
    }
  ]
}