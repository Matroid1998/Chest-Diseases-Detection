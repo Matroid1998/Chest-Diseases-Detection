{
  "nbformat": 4,
  "nbformat_minor": 0,
  "metadata": {
    "colab": {
      "provenance": [],
      "machine_shape": "hm"
    },
    "kernelspec": {
      "name": "python3",
      "display_name": "Python 3"
    },
    "language_info": {
      "name": "python"
    },
    "accelerator": "GPU",
    "gpuClass": "standard"
  },
  "cells": [
    {
      "cell_type": "code",
      "execution_count": null,
      "metadata": {
        "id": "El1dYIJ7eYKL"
      },
      "outputs": [],
      "source": [
        "from glob import glob\n",
        "import cv2\n",
        "from matplotlib import pyplot as plt\n",
        "import numpy as np\n",
        "from sklearn.model_selection import cross_validate, KFold, cross_val_predict, train_test_split\n",
        "import tensorflow as tf\n",
        "from tensorflow import keras"
      ]
    },
    {
      "cell_type": "code",
      "source": [
        "from google.colab import drive\n",
        "drive.mount('/content/drive')"
      ],
      "metadata": {
        "colab": {
          "base_uri": "https://localhost:8080/"
        },
        "id": "M298r4ykeZDl",
        "outputId": "950a6c41-2e9f-45c0-c140-ae4c4ae329b8"
      },
      "execution_count": null,
      "outputs": [
        {
          "output_type": "stream",
          "name": "stdout",
          "text": [
            "Mounted at /content/drive\n"
          ]
        }
      ]
    },
    {
      "cell_type": "code",
      "source": [
        "images_path = {}\n",
        "images_path[\"Covid\"] = glob(\"/content/drive/MyDrive/X-Ray Image DataSet/Covid-19/*.png\")\n",
        "images_path[\"Covid\"] += glob(\"/content/drive/MyDrive/X-Ray Image DataSet/Covid-19/*.jpeg\")\n",
        "images_path[\"Covid\"] += glob(\"/content/drive/MyDrive/X-Ray Image DataSet/Covid-19/*.jpg\")\n",
        "\n",
        "images_path[\"NoFindings\"] = glob(\"/content/drive/MyDrive/X-Ray Image DataSet/No_findings/*.png\")\n",
        "images_path[\"NoFindings\"] += glob(\"/content/drive/MyDrive/X-Ray Image DataSet/No_findings/*.jpeg\")\n",
        "images_path[\"NoFindings\"] += glob(\"/content/drive/MyDrive/X-Ray Image DataSet/No_findings/*.jpg\")\n",
        "\n",
        "images_path[\"Pneumonia\"] = glob(\"/content/drive/MyDrive/X-Ray Image DataSet/Pneumonia/*.png\")\n",
        "images_path[\"Pneumonia\"] += glob(\"/content/drive/MyDrive/X-Ray Image DataSet/Pneumonia/*.jpeg\")\n",
        "images_path[\"Pneumonia\"] += glob(\"/content/drive/MyDrive/X-Ray Image DataSet/Pneumonia/*.jpg\")\n",
        "images_class = {\n",
        "    \"Covid\": 0,\n",
        "    \"Pneumonia\": 1,\n",
        "    \"NoFindings\": 2\n",
        "}"
      ],
      "metadata": {
        "id": "y5ZI09SVea4i"
      },
      "execution_count": null,
      "outputs": []
    },
    {
      "cell_type": "code",
      "source": [
        "X = []\n",
        "Y = []\n",
        "\n",
        "for label in images_path:\n",
        "    for image_path in images_path[label]:\n",
        "        image = cv2.imread(image_path)\n",
        "        image = cv2.resize(image,(224, 224))\n",
        "        X.append(image)\n",
        "        Y.append(images_class[label])"
      ],
      "metadata": {
        "id": "2S7PCBE0fKFB"
      },
      "execution_count": null,
      "outputs": []
    },
    {
      "cell_type": "code",
      "source": [
        "X = np.array(X)\n",
        "Y = np.array(Y)\n"
      ],
      "metadata": {
        "id": "YoshPZCpfMNo"
      },
      "execution_count": null,
      "outputs": []
    },
    {
      "cell_type": "code",
      "source": [
        "from sklearn.model_selection import StratifiedShuffleSplit\n",
        "split = StratifiedShuffleSplit(n_splits=1, test_size=0.2, random_state=42)\n",
        "for train_index, test_index in split.split(X, Y):\n",
        "    X_train = X[train_index]\n",
        "    X_test = X[test_index]\n",
        "    y_train=Y[train_index]\n",
        "    y_test=Y[test_index]"
      ],
      "metadata": {
        "id": "NUAvg3RRfNb7"
      },
      "execution_count": null,
      "outputs": []
    },
    {
      "cell_type": "code",
      "source": [
        "X_train=np.array(X_train).reshape(-1,224,224,3).astype('float32')\n",
        "y_train=np.array(y_train)\n",
        "X_test=np.array(X_test).reshape(-1,224,224,3).astype('float32')\n",
        "y_test=np.array(y_test)"
      ],
      "metadata": {
        "id": "WNVQuwqPfOuk"
      },
      "execution_count": null,
      "outputs": []
    },
    {
      "cell_type": "code",
      "source": [
        "X_train=keras.applications.vgg16.preprocess_input(X_train)\n",
        "X_test=keras.applications.vgg16.preprocess_input(X_test)"
      ],
      "metadata": {
        "id": "g_BatI1GfP__"
      },
      "execution_count": null,
      "outputs": []
    },
    {
      "cell_type": "code",
      "source": [
        "vgg=keras.applications.vgg16.VGG16(input_shape=(224,224,3),weights='imagenet',include_top=False)"
      ],
      "metadata": {
        "id": "cuuvX54yfRRF",
        "colab": {
          "base_uri": "https://localhost:8080/"
        },
        "outputId": "1e969af6-bc09-453f-d309-266af63859a7"
      },
      "execution_count": null,
      "outputs": [
        {
          "output_type": "stream",
          "name": "stdout",
          "text": [
            "Downloading data from https://storage.googleapis.com/tensorflow/keras-applications/vgg16/vgg16_weights_tf_dim_ordering_tf_kernels_notop.h5\n",
            "58892288/58889256 [==============================] - 2s 0us/step\n",
            "58900480/58889256 [==============================] - 2s 0us/step\n"
          ]
        }
      ]
    },
    {
      "cell_type": "code",
      "source": [
        "my_smaller_model =keras.models.Model(vgg.input,vgg.get_layer(\"block3_conv3\").output)\n",
        "my_smaller_model.trainable = False"
      ],
      "metadata": {
        "id": "neZ7v9jefSTy"
      },
      "execution_count": null,
      "outputs": []
    },
    {
      "cell_type": "code",
      "source": [
        "for layer in my_smaller_model.layers:\n",
        "     layer.trainable = False"
      ],
      "metadata": {
        "id": "CBhid4JvfUAU"
      },
      "execution_count": null,
      "outputs": []
    },
    {
      "cell_type": "code",
      "source": [
        "base_model_output = my_smaller_model.output\n",
        "gap = keras.layers.GlobalAveragePooling2D()(base_model_output)\n",
        "fc = keras.layers.Dense(units=256, activation=\"relu\")(gap)\n",
        "output = keras.layers.Dense(3, activation=\"softmax\")(fc)"
      ],
      "metadata": {
        "id": "6JpJnbo_fVCQ"
      },
      "execution_count": null,
      "outputs": []
    },
    {
      "cell_type": "code",
      "source": [
        "transfer_model = keras.models.Model(my_smaller_model.input, output)"
      ],
      "metadata": {
        "id": "eSMaMfQofWJQ"
      },
      "execution_count": null,
      "outputs": []
    },
    {
      "cell_type": "code",
      "source": [
        "transfer_model.compile(loss=\"sparse_categorical_crossentropy\",optimizer='adam',metrics=['accuracy'])"
      ],
      "metadata": {
        "id": "MYdQpPYlfXgT"
      },
      "execution_count": null,
      "outputs": []
    },
    {
      "cell_type": "code",
      "source": [
        "transfer_model.fit(X_train,y_train,epochs=30)"
      ],
      "metadata": {
        "colab": {
          "base_uri": "https://localhost:8080/"
        },
        "id": "udv7ytOvfYw2",
        "outputId": "d8c60a32-9cc8-4484-e129-3a11cc3e8c6f"
      },
      "execution_count": null,
      "outputs": [
        {
          "output_type": "stream",
          "name": "stdout",
          "text": [
            "Epoch 1/30\n",
            "29/29 [==============================] - 12s 64ms/step - loss: 30.9570 - accuracy: 0.5756\n",
            "Epoch 2/30\n",
            "29/29 [==============================] - 2s 59ms/step - loss: 7.7262 - accuracy: 0.7256\n",
            "Epoch 3/30\n",
            "29/29 [==============================] - 2s 58ms/step - loss: 4.8090 - accuracy: 0.7500\n",
            "Epoch 4/30\n",
            "29/29 [==============================] - 2s 58ms/step - loss: 3.7618 - accuracy: 0.7867\n",
            "Epoch 5/30\n",
            "29/29 [==============================] - 2s 59ms/step - loss: 3.7156 - accuracy: 0.7722\n",
            "Epoch 6/30\n",
            "29/29 [==============================] - 2s 59ms/step - loss: 7.8818 - accuracy: 0.7078\n",
            "Epoch 7/30\n",
            "29/29 [==============================] - 2s 59ms/step - loss: 4.0859 - accuracy: 0.7700\n",
            "Epoch 8/30\n",
            "29/29 [==============================] - 2s 58ms/step - loss: 4.1805 - accuracy: 0.7711\n",
            "Epoch 9/30\n",
            "29/29 [==============================] - 2s 59ms/step - loss: 2.4937 - accuracy: 0.8233\n",
            "Epoch 10/30\n",
            "29/29 [==============================] - 2s 59ms/step - loss: 2.3959 - accuracy: 0.8056\n",
            "Epoch 11/30\n",
            "29/29 [==============================] - 2s 58ms/step - loss: 1.9676 - accuracy: 0.8311\n",
            "Epoch 12/30\n",
            "29/29 [==============================] - 2s 58ms/step - loss: 1.3068 - accuracy: 0.8522\n",
            "Epoch 13/30\n",
            "29/29 [==============================] - 2s 59ms/step - loss: 1.6465 - accuracy: 0.8111\n",
            "Epoch 14/30\n",
            "29/29 [==============================] - 2s 59ms/step - loss: 1.9486 - accuracy: 0.8256\n",
            "Epoch 15/30\n",
            "29/29 [==============================] - 2s 58ms/step - loss: 3.2192 - accuracy: 0.7711\n",
            "Epoch 16/30\n",
            "29/29 [==============================] - 2s 58ms/step - loss: 2.4303 - accuracy: 0.8067\n",
            "Epoch 17/30\n",
            "29/29 [==============================] - 2s 58ms/step - loss: 4.4913 - accuracy: 0.7744\n",
            "Epoch 18/30\n",
            "29/29 [==============================] - 2s 58ms/step - loss: 2.4363 - accuracy: 0.8056\n",
            "Epoch 19/30\n",
            "29/29 [==============================] - 2s 58ms/step - loss: 3.9088 - accuracy: 0.7689\n",
            "Epoch 20/30\n",
            "29/29 [==============================] - 2s 58ms/step - loss: 4.7814 - accuracy: 0.7678\n",
            "Epoch 21/30\n",
            "29/29 [==============================] - 2s 58ms/step - loss: 3.3985 - accuracy: 0.8122\n",
            "Epoch 22/30\n",
            "29/29 [==============================] - 2s 58ms/step - loss: 1.5570 - accuracy: 0.8544\n",
            "Epoch 23/30\n",
            "29/29 [==============================] - 2s 58ms/step - loss: 2.2532 - accuracy: 0.8222\n",
            "Epoch 24/30\n",
            "29/29 [==============================] - 2s 58ms/step - loss: 1.9357 - accuracy: 0.8433\n",
            "Epoch 25/30\n",
            "29/29 [==============================] - 2s 58ms/step - loss: 1.5876 - accuracy: 0.8444\n",
            "Epoch 26/30\n",
            "29/29 [==============================] - 2s 58ms/step - loss: 2.8387 - accuracy: 0.7844\n",
            "Epoch 27/30\n",
            "29/29 [==============================] - 2s 59ms/step - loss: 2.0864 - accuracy: 0.8300\n",
            "Epoch 28/30\n",
            "29/29 [==============================] - 2s 58ms/step - loss: 2.0640 - accuracy: 0.8300\n",
            "Epoch 29/30\n",
            "29/29 [==============================] - 2s 58ms/step - loss: 1.4254 - accuracy: 0.8622\n",
            "Epoch 30/30\n",
            "29/29 [==============================] - 2s 58ms/step - loss: 1.6404 - accuracy: 0.8267\n"
          ]
        },
        {
          "output_type": "execute_result",
          "data": {
            "text/plain": [
              "<keras.callbacks.History at 0x7fb580676710>"
            ]
          },
          "metadata": {},
          "execution_count": 19
        }
      ]
    },
    {
      "cell_type": "code",
      "source": [
        "my_smaller_model.trainable = True\n",
        "for layer in my_smaller_model.layers:\n",
        "     layer.trainable = True "
      ],
      "metadata": {
        "id": "jkVF8xVxfahb"
      },
      "execution_count": null,
      "outputs": []
    },
    {
      "cell_type": "code",
      "source": [
        "ADAM= keras.optimizers.Adam(learning_rate=0.00001)\n",
        "transfer_model.compile(loss=\"sparse_categorical_crossentropy\",optimizer=ADAM,metrics=['accuracy'])"
      ],
      "metadata": {
        "id": "ueQZluyEfbkU"
      },
      "execution_count": null,
      "outputs": []
    },
    {
      "cell_type": "code",
      "source": [
        "transfer_model.fit(X_train,y_train,batch_size=10,epochs=20)"
      ],
      "metadata": {
        "colab": {
          "base_uri": "https://localhost:8080/"
        },
        "id": "UVNUSppXfdlx",
        "outputId": "9014e901-398f-4f66-ffee-79db99a95c87"
      },
      "execution_count": null,
      "outputs": [
        {
          "output_type": "stream",
          "name": "stdout",
          "text": [
            "Epoch 1/20\n",
            "90/90 [==============================] - 7s 60ms/step - loss: 1.2185 - accuracy: 0.8567\n",
            "Epoch 2/20\n",
            "90/90 [==============================] - 5s 59ms/step - loss: 1.1436 - accuracy: 0.8511\n",
            "Epoch 3/20\n",
            "90/90 [==============================] - 5s 59ms/step - loss: 0.8119 - accuracy: 0.8600\n",
            "Epoch 4/20\n",
            "90/90 [==============================] - 5s 59ms/step - loss: 0.7705 - accuracy: 0.8611\n",
            "Epoch 5/20\n",
            "90/90 [==============================] - 5s 59ms/step - loss: 0.5174 - accuracy: 0.8867\n",
            "Epoch 6/20\n",
            "90/90 [==============================] - 5s 59ms/step - loss: 0.4927 - accuracy: 0.9022\n",
            "Epoch 7/20\n",
            "90/90 [==============================] - 5s 59ms/step - loss: 0.5568 - accuracy: 0.8756\n",
            "Epoch 8/20\n",
            "90/90 [==============================] - 5s 59ms/step - loss: 0.5912 - accuracy: 0.8833\n",
            "Epoch 9/20\n",
            "90/90 [==============================] - 5s 59ms/step - loss: 0.4820 - accuracy: 0.8944\n",
            "Epoch 10/20\n",
            "90/90 [==============================] - 5s 59ms/step - loss: 0.4471 - accuracy: 0.8867\n",
            "Epoch 11/20\n",
            "90/90 [==============================] - 5s 59ms/step - loss: 0.3704 - accuracy: 0.9000\n",
            "Epoch 12/20\n",
            "90/90 [==============================] - 5s 59ms/step - loss: 0.5109 - accuracy: 0.8789\n",
            "Epoch 13/20\n",
            "90/90 [==============================] - 5s 59ms/step - loss: 0.3753 - accuracy: 0.9000\n",
            "Epoch 14/20\n",
            "90/90 [==============================] - 5s 59ms/step - loss: 0.4320 - accuracy: 0.8956\n",
            "Epoch 15/20\n",
            "90/90 [==============================] - 5s 59ms/step - loss: 0.2881 - accuracy: 0.9200\n",
            "Epoch 16/20\n",
            "90/90 [==============================] - 5s 59ms/step - loss: 0.1812 - accuracy: 0.9344\n",
            "Epoch 17/20\n",
            "90/90 [==============================] - 5s 59ms/step - loss: 0.2223 - accuracy: 0.9311\n",
            "Epoch 18/20\n",
            "90/90 [==============================] - 5s 59ms/step - loss: 0.4154 - accuracy: 0.8822\n",
            "Epoch 19/20\n",
            "90/90 [==============================] - 5s 59ms/step - loss: 0.3345 - accuracy: 0.8944\n",
            "Epoch 20/20\n",
            "90/90 [==============================] - 5s 59ms/step - loss: 0.1881 - accuracy: 0.9244\n"
          ]
        },
        {
          "output_type": "execute_result",
          "data": {
            "text/plain": [
              "<keras.callbacks.History at 0x7fb51667af10>"
            ]
          },
          "metadata": {},
          "execution_count": 22
        }
      ]
    },
    {
      "cell_type": "code",
      "source": [
        "mse_test = transfer_model.evaluate(X_test, y_test)"
      ],
      "metadata": {
        "id": "j7LtvV_RffN-",
        "colab": {
          "base_uri": "https://localhost:8080/"
        },
        "outputId": "4b9121b7-1a51-4b0a-eb6c-99f9b10d2448"
      },
      "execution_count": null,
      "outputs": [
        {
          "output_type": "stream",
          "name": "stdout",
          "text": [
            "8/8 [==============================] - 1s 76ms/step - loss: 0.9897 - accuracy: 0.8622\n"
          ]
        }
      ]
    },
    {
      "cell_type": "code",
      "source": [],
      "metadata": {
        "id": "qtOAHUdnnA2c"
      },
      "execution_count": null,
      "outputs": []
    }
  ]
}