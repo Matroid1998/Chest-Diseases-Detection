{
  "cells": [
    {
      "cell_type": "code",
      "execution_count": null,
      "metadata": {
        "id": "jnC-vZfMmB93"
      },
      "outputs": [],
      "source": [
        "from glob import glob\n",
        "import cv2\n",
        "from matplotlib import pyplot as plt\n",
        "import numpy as np\n",
        "from sklearn.model_selection import cross_validate, KFold, cross_val_predict, train_test_split\n",
        "import tensorflow as tf\n",
        "from tensorflow import keras\n",
        "from keras.regularizers import l2"
      ]
    },
    {
      "cell_type": "code",
      "execution_count": null,
      "metadata": {
        "colab": {
          "base_uri": "https://localhost:8080/"
        },
        "id": "YaejH2GEmFYP",
        "outputId": "9febde49-e1fc-4121-c60f-ad88c168da84"
      },
      "outputs": [
        {
          "output_type": "stream",
          "name": "stdout",
          "text": [
            "Mounted at /content/drive\n"
          ]
        }
      ],
      "source": [
        "from google.colab import drive\n",
        "drive.mount('/content/drive')"
      ]
    },
    {
      "cell_type": "markdown",
      "source": [],
      "metadata": {
        "id": "wa98pRe23dwN"
      }
    },
    {
      "cell_type": "code",
      "execution_count": null,
      "metadata": {
        "id": "CwlSNF3jmQFB"
      },
      "outputs": [],
      "source": [
        "images_path = {}\n",
        "images_path[\"Covid\"] = glob(\"/content/drive/MyDrive/X-Ray Image DataSet/Covid-19/*.png\")\n",
        "images_path[\"Covid\"] += glob(\"/content/drive/MyDrive/X-Ray Image DataSet/Covid-19/*.jpeg\")\n",
        "images_path[\"Covid\"] += glob(\"/content/drive/MyDrive/X-Ray Image DataSet/Covid-19/*.jpg\")\n",
        "\n",
        "images_path[\"NoFindings\"] = glob(\"/content/drive/MyDrive/X-Ray Image DataSet/No_findings/*.png\")\n",
        "images_path[\"NoFindings\"] += glob(\"/content/drive/MyDrive/X-Ray Image DataSet/No_findings/*.jpeg\")\n",
        "images_path[\"NoFindings\"] += glob(\"/content/drive/MyDrive/X-Ray Image DataSet/No_findings/*.jpg\")\n",
        "\n",
        "images_path[\"Pneumonia\"] = glob(\"/content/drive/MyDrive/X-Ray Image DataSet/Pneumonia/*.png\")\n",
        "images_path[\"Pneumonia\"] += glob(\"/content/drive/MyDrive//X-Ray Image DataSet/Pneumonia/*.jpeg\")\n",
        "images_path[\"Pneumonia\"] += glob(\"/content/drive/MyDrive/X-Ray Image DataSet/Pneumonia/*.jpg\")\n",
        "images_class = {\n",
        "    \"Covid\": 0,\n",
        "    \"Pneumonia\": 1,\n",
        "    \"NoFindings\": 2\n",
        "}"
      ]
    },
    {
      "cell_type": "code",
      "execution_count": null,
      "metadata": {
        "id": "0YWSL0VFmmaV"
      },
      "outputs": [],
      "source": [
        "X = []\n",
        "Y = []\n",
        "\n",
        "for label in images_path:\n",
        "    for image_path in images_path[label]:\n",
        "        image = cv2.imread(image_path)\n",
        "        image = cv2.resize(image,(512,512))\n",
        "        X.append(image)\n",
        "        Y.append(images_class[label])"
      ]
    },
    {
      "cell_type": "code",
      "execution_count": null,
      "metadata": {
        "id": "6N7MKVibmofN"
      },
      "outputs": [],
      "source": [
        "X = np.array(X)\n",
        "Y = np.array(Y)\n"
      ]
    },
    {
      "cell_type": "code",
      "execution_count": null,
      "metadata": {
        "id": "kRe2azqfmshl"
      },
      "outputs": [],
      "source": [
        "X=X/255"
      ]
    },
    {
      "cell_type": "code",
      "execution_count": null,
      "metadata": {
        "id": "wAstrLrhmtSB"
      },
      "outputs": [],
      "source": [
        "from sklearn.model_selection import StratifiedShuffleSplit\n",
        "split = StratifiedShuffleSplit(n_splits=1, test_size=0.2, random_state=42)\n",
        "for train_index, test_index in split.split(X, Y):\n",
        "    X_train = X[train_index]\n",
        "    X_test = X[test_index]\n",
        "    y_train=Y[train_index]\n",
        "    y_test=Y[test_index]"
      ]
    },
    {
      "cell_type": "code",
      "execution_count": null,
      "metadata": {
        "id": "sLM-yhw1muu4"
      },
      "outputs": [],
      "source": [
        "X_train=np.array(X_train).reshape(-1,512,512,3).astype('float32')\n",
        "y_train=np.array(y_train)\n",
        "X_test=np.array(X_test).reshape(-1,512,512,3).astype('float32')\n",
        "y_test=np.array(y_test)"
      ]
    },
    {
      "cell_type": "code",
      "execution_count": null,
      "metadata": {
        "id": "7LO-ucbimxqD"
      },
      "outputs": [],
      "source": [
        "input = tf.keras.layers.Input(shape=X.shape[1:])\n",
        "Conv1_1=tf.keras.layers.Conv2D(filters=64,kernel_size=(3,3),activation='relu',kernel_initializer='he_normal',padding='same',kernel_regularizer=l2(0.0002))(input)\n",
        "BN1_1=tf.keras.layers.BatchNormalization()(Conv1_1)\n",
        "Conv1_2=tf.keras.layers.Conv2D(filters=64,kernel_size=(3,3),activation='relu',kernel_initializer='he_normal',padding='same',kernel_regularizer=l2(0.0002))(BN1_1)\n",
        "BN1_2=tf.keras.layers.BatchNormalization()(Conv1_2)\n",
        "Conv1_3=tf.keras.layers.Conv2D(filters=64,kernel_size=(3,3),activation='relu',kernel_initializer='he_normal',padding='same',kernel_regularizer=l2(0.0002))(BN1_2)\n",
        "BN1_3=tf.keras.layers.BatchNormalization()(Conv1_3)\n",
        "added1 = tf.keras.layers.Add()([Conv1_1,BN1_3])\n",
        "added1=tf.keras.layers.ReLU()(added1)\n",
        "Max_pool1=tf.keras.layers.MaxPool2D(pool_size=2)(added1)\n",
        "BN1_4=tf.keras.layers.BatchNormalization()(Max_pool1)\n",
        "\n",
        "Conv2_1=tf.keras.layers.Conv2D(filters=128,kernel_size=(3,3),activation='relu',kernel_initializer='he_normal',padding='same',kernel_regularizer=l2(0.0002))(BN1_4)\n",
        "BN2_1=tf.keras.layers.BatchNormalization()(Conv2_1)\n",
        "Conv2_2=tf.keras.layers.Conv2D(filters=128,kernel_size=(3,3),activation='relu',kernel_initializer='he_normal',padding='same',kernel_regularizer=l2(0.0002))(BN2_1)\n",
        "BN2_2=tf.keras.layers.BatchNormalization()(Conv2_2)\n",
        "Conv2_3=tf.keras.layers.Conv2D(filters=128,kernel_size=(3,3),activation='relu',kernel_initializer='he_normal',padding='same',kernel_regularizer=l2(0.0002))(BN2_2)\n",
        "BN2_3=tf.keras.layers.BatchNormalization()(Conv2_3)\n",
        "added2 = tf.keras.layers.Add()([Conv2_1,BN2_3])\n",
        "added2=tf.keras.layers.ReLU()(added2)\n",
        "Max_pool2=tf.keras.layers.MaxPool2D(pool_size=2)(added2)\n",
        "BN2_4=tf.keras.layers.BatchNormalization()(Max_pool2)\n",
        "\n",
        "Conv3_1=tf.keras.layers.Conv2D(filters=256,kernel_size=(3,3),activation='relu',kernel_initializer='he_normal',padding='same',kernel_regularizer=l2(0.0002))(BN2_4)\n",
        "BN3_1=tf.keras.layers.BatchNormalization()(Conv3_1)\n",
        "Conv3_2=tf.keras.layers.Conv2D(filters=256,kernel_size=(3,3),activation='relu',kernel_initializer='he_normal',padding='same',kernel_regularizer=l2(0.0002))(BN3_1)\n",
        "BN3_2=tf.keras.layers.BatchNormalization()(Conv3_2)\n",
        "Conv3_3=tf.keras.layers.Conv2D(filters=256,kernel_size=(3,3),activation='relu',kernel_initializer='he_normal',padding='same',kernel_regularizer=l2(0.0002))(BN3_2)\n",
        "BN3_3=tf.keras.layers.BatchNormalization()(Conv3_3)\n",
        "added3 = tf.keras.layers.Add()([Conv3_1,BN3_3])\n",
        "added3=tf.keras.layers.ReLU()(added3)\n",
        "Max_pool3=tf.keras.layers.MaxPool2D(pool_size=2)(added3)\n",
        "BN3_4=tf.keras.layers.BatchNormalization()(Max_pool3)\n",
        "\n",
        "Conv4_1=tf.keras.layers.Conv2D(filters=512,kernel_size=(3,3),activation='relu',kernel_initializer='he_normal',padding='same',kernel_regularizer=l2(0.0002))(BN3_4)\n",
        "BN4_1=tf.keras.layers.BatchNormalization()(Conv4_1)\n",
        "Conv4_2=tf.keras.layers.Conv2D(filters=512,kernel_size=(3,3),activation='relu',kernel_initializer='he_normal',padding='same',kernel_regularizer=l2(0.0002))(BN4_1)\n",
        "BN4_2=tf.keras.layers.BatchNormalization()(Conv4_2)\n",
        "Conv4_3=tf.keras.layers.Conv2D(filters=512,kernel_size=(3,3),activation='relu',kernel_initializer='he_normal',padding='same',kernel_regularizer=l2(0.0002))(BN4_2)\n",
        "BN4_3=tf.keras.layers.BatchNormalization()(Conv4_3)\n",
        "added4 = tf.keras.layers.Add()([Conv4_1,BN4_3])\n",
        "added4=tf.keras.layers.ReLU()(added4)\n",
        "Max_pool4=tf.keras.layers.MaxPool2D(pool_size=2)(added4)\n",
        "BN4_4=tf.keras.layers.BatchNormalization()(Max_pool4)\n",
        "\n",
        "Conv5_1=tf.keras.layers.Conv2D(filters=1024,kernel_size=(3,3),activation='relu',kernel_initializer='he_normal',padding='same',kernel_regularizer=l2(0.0002))(BN4_4)\n",
        "BN5_1=tf.keras.layers.BatchNormalization()(Conv5_1)\n",
        "Conv5_2=tf.keras.layers.Conv2D(filters=1024,kernel_size=(3,3),activation='relu',kernel_initializer='he_normal',padding='same',kernel_regularizer=l2(0.0002))(BN5_1)\n",
        "BN5_2=tf.keras.layers.BatchNormalization()(Conv5_2)\n",
        "Conv5_3=tf.keras.layers.Conv2D(filters=1024,kernel_size=(3,3),activation='relu',kernel_initializer='he_normal',padding='same',kernel_regularizer=l2(0.0002))(BN5_2)\n",
        "BN5_3=tf.keras.layers.BatchNormalization()(Conv5_3)\n",
        "added5 = tf.keras.layers.Add()([Conv5_1,BN5_3])\n",
        "added5=tf.keras.layers.ReLU()(added5)\n",
        "BN5_4=tf.keras.layers.BatchNormalization()(added5)\n",
        "\n",
        "gap =tf.keras.layers.GlobalAveragePooling2D()(BN5_4)\n",
        "fc1 =tf.keras.layers.Dense(units=512, activation=\"relu\",kernel_initializer=\"he_normal\",kernel_regularizer=l2(0.0002))(gap)\n",
        "D1=tf.keras.layers.Dropout(rate=0.2)(fc1)\n",
        "BN1=tf.keras.layers.BatchNormalization()(D1)\n",
        "fc2 =tf.keras.layers.Dense(units=256, activation=\"relu\",kernel_initializer=\"he_normal\",kernel_regularizer=l2(0.0002))(BN1)\n",
        "D2=tf.keras.layers.Dropout(rate=0.2)(fc2)\n",
        "BN2=tf.keras.layers.BatchNormalization()(D2)\n",
        "output =tf.keras.layers.Dense(3, activation=\"softmax\")(BN2)"
      ]
    },
    {
      "cell_type": "code",
      "source": [],
      "metadata": {
        "id": "ocaVT7Z6WBwG"
      },
      "execution_count": null,
      "outputs": []
    },
    {
      "cell_type": "code",
      "execution_count": null,
      "metadata": {
        "id": "GKKZzD1Wm5lj"
      },
      "outputs": [],
      "source": [
        "my_model =tf.keras.models.Model(inputs=input, outputs=output)"
      ]
    },
    {
      "cell_type": "code",
      "execution_count": null,
      "metadata": {
        "id": "4jFzfAs8m9vh"
      },
      "outputs": [],
      "source": [
        "my_model.compile(loss=\"sparse_categorical_crossentropy\",optimizer=tf.keras.optimizers.Adam(learning_rate=5e-5),metrics=['accuracy'])"
      ]
    },
    {
      "cell_type": "code",
      "execution_count": null,
      "metadata": {
        "colab": {
          "base_uri": "https://localhost:8080/"
        },
        "id": "DoTzPV5mn7Zh",
        "outputId": "059b6bd2-abbb-42c1-f2ab-510049914fc9"
      },
      "outputs": [
        {
          "output_type": "stream",
          "name": "stdout",
          "text": [
            "Epoch 1/100\n",
            "96/96 [==============================] - 55s 569ms/step - loss: 3.1973 - accuracy: 0.7464 - val_loss: 3.2877 - val_accuracy: 0.7259\n",
            "Epoch 2/100\n",
            "96/96 [==============================] - 54s 568ms/step - loss: 3.1111 - accuracy: 0.8065 - val_loss: 3.5192 - val_accuracy: 0.7852\n",
            "Epoch 3/100\n",
            "96/96 [==============================] - 54s 567ms/step - loss: 3.1138 - accuracy: 0.7856 - val_loss: 4.1397 - val_accuracy: 0.6444\n",
            "Epoch 4/100\n",
            "96/96 [==============================] - 54s 567ms/step - loss: 3.0901 - accuracy: 0.8170 - val_loss: 12.5804 - val_accuracy: 0.1704\n",
            "Epoch 5/100\n",
            "96/96 [==============================] - 54s 567ms/step - loss: 3.0833 - accuracy: 0.7987 - val_loss: 3.1821 - val_accuracy: 0.7259\n",
            "Epoch 6/100\n",
            "96/96 [==============================] - 54s 566ms/step - loss: 3.0884 - accuracy: 0.7895 - val_loss: 4.9116 - val_accuracy: 0.5407\n",
            "Epoch 7/100\n",
            "96/96 [==============================] - 54s 567ms/step - loss: 3.0803 - accuracy: 0.8157 - val_loss: 3.1690 - val_accuracy: 0.6963\n",
            "Epoch 8/100\n",
            "96/96 [==============================] - 54s 566ms/step - loss: 3.0316 - accuracy: 0.8065 - val_loss: 4.6996 - val_accuracy: 0.5630\n",
            "Epoch 9/100\n",
            "96/96 [==============================] - 54s 567ms/step - loss: 3.0842 - accuracy: 0.7804 - val_loss: 4.2056 - val_accuracy: 0.5037\n",
            "Epoch 10/100\n",
            "96/96 [==============================] - 54s 567ms/step - loss: 3.0586 - accuracy: 0.7974 - val_loss: 3.2366 - val_accuracy: 0.6370\n",
            "Epoch 11/100\n",
            "96/96 [==============================] - 54s 567ms/step - loss: 3.0124 - accuracy: 0.8248 - val_loss: 4.6255 - val_accuracy: 0.5407\n",
            "Epoch 12/100\n",
            "96/96 [==============================] - 54s 567ms/step - loss: 3.0320 - accuracy: 0.8078 - val_loss: 3.6271 - val_accuracy: 0.6370\n",
            "Epoch 13/100\n",
            "96/96 [==============================] - 54s 566ms/step - loss: 3.0377 - accuracy: 0.7804 - val_loss: 3.4674 - val_accuracy: 0.6593\n",
            "Epoch 14/100\n",
            "96/96 [==============================] - 54s 566ms/step - loss: 3.0170 - accuracy: 0.8052 - val_loss: 2.9261 - val_accuracy: 0.8074\n",
            "Epoch 15/100\n",
            "96/96 [==============================] - 54s 566ms/step - loss: 2.9355 - accuracy: 0.8183 - val_loss: 4.1579 - val_accuracy: 0.6296\n",
            "Epoch 16/100\n",
            "96/96 [==============================] - 54s 566ms/step - loss: 2.9693 - accuracy: 0.8078 - val_loss: 3.3915 - val_accuracy: 0.6222\n",
            "Epoch 17/100\n",
            "96/96 [==============================] - 54s 567ms/step - loss: 2.9681 - accuracy: 0.8000 - val_loss: 2.9486 - val_accuracy: 0.7926\n",
            "Epoch 18/100\n",
            "96/96 [==============================] - 54s 566ms/step - loss: 2.9571 - accuracy: 0.8261 - val_loss: 2.9976 - val_accuracy: 0.7852\n",
            "Epoch 19/100\n",
            "96/96 [==============================] - 54s 567ms/step - loss: 2.9307 - accuracy: 0.8222 - val_loss: 8.5856 - val_accuracy: 0.3185\n",
            "Epoch 20/100\n",
            "96/96 [==============================] - 54s 567ms/step - loss: 2.8848 - accuracy: 0.8248 - val_loss: 3.3868 - val_accuracy: 0.7037\n",
            "Epoch 21/100\n",
            "96/96 [==============================] - 54s 567ms/step - loss: 2.8525 - accuracy: 0.8248 - val_loss: 3.7243 - val_accuracy: 0.7852\n",
            "Epoch 22/100\n",
            "96/96 [==============================] - 54s 566ms/step - loss: 2.9329 - accuracy: 0.7974 - val_loss: 2.8127 - val_accuracy: 0.8370\n",
            "Epoch 23/100\n",
            "96/96 [==============================] - 54s 567ms/step - loss: 2.8721 - accuracy: 0.8170 - val_loss: 3.9382 - val_accuracy: 0.6222\n",
            "Epoch 24/100\n",
            "96/96 [==============================] - 54s 566ms/step - loss: 2.8439 - accuracy: 0.8209 - val_loss: 3.3335 - val_accuracy: 0.6000\n",
            "Epoch 25/100\n",
            "96/96 [==============================] - 54s 567ms/step - loss: 2.8738 - accuracy: 0.8196 - val_loss: 3.3563 - val_accuracy: 0.6889\n",
            "Epoch 26/100\n",
            "96/96 [==============================] - 54s 566ms/step - loss: 2.8756 - accuracy: 0.8026 - val_loss: 6.4209 - val_accuracy: 0.4815\n",
            "Epoch 27/100\n",
            "96/96 [==============================] - 54s 567ms/step - loss: 2.8082 - accuracy: 0.8144 - val_loss: 2.8840 - val_accuracy: 0.8000\n",
            "Epoch 28/100\n",
            "96/96 [==============================] - 54s 567ms/step - loss: 2.8316 - accuracy: 0.8144 - val_loss: 3.6329 - val_accuracy: 0.5926\n",
            "Epoch 29/100\n",
            "96/96 [==============================] - 54s 567ms/step - loss: 2.8391 - accuracy: 0.8235 - val_loss: 3.6721 - val_accuracy: 0.6519\n",
            "Epoch 30/100\n",
            "96/96 [==============================] - 54s 567ms/step - loss: 2.7133 - accuracy: 0.8523 - val_loss: 3.2815 - val_accuracy: 0.7333\n",
            "Epoch 31/100\n",
            "96/96 [==============================] - 57s 592ms/step - loss: 2.7436 - accuracy: 0.8458 - val_loss: 3.0262 - val_accuracy: 0.7333\n",
            "Epoch 32/100\n",
            "96/96 [==============================] - 54s 567ms/step - loss: 2.7535 - accuracy: 0.8431 - val_loss: 3.4220 - val_accuracy: 0.6370\n",
            "Epoch 33/100\n",
            "96/96 [==============================] - 54s 567ms/step - loss: 2.6949 - accuracy: 0.8418 - val_loss: 3.0749 - val_accuracy: 0.6593\n",
            "Epoch 34/100\n",
            "96/96 [==============================] - 54s 567ms/step - loss: 2.6548 - accuracy: 0.8667 - val_loss: 3.2500 - val_accuracy: 0.7185\n",
            "Epoch 35/100\n",
            "96/96 [==============================] - 54s 567ms/step - loss: 2.6735 - accuracy: 0.8405 - val_loss: 4.4211 - val_accuracy: 0.5185\n",
            "Epoch 36/100\n",
            "96/96 [==============================] - 54s 567ms/step - loss: 2.6467 - accuracy: 0.8484 - val_loss: 4.4812 - val_accuracy: 0.6667\n",
            "Epoch 37/100\n",
            "96/96 [==============================] - 54s 567ms/step - loss: 2.6524 - accuracy: 0.8327 - val_loss: 3.6081 - val_accuracy: 0.7259\n",
            "Epoch 38/100\n",
            "96/96 [==============================] - 54s 567ms/step - loss: 2.5932 - accuracy: 0.8510 - val_loss: 2.8083 - val_accuracy: 0.8074\n",
            "Epoch 39/100\n",
            "96/96 [==============================] - 54s 567ms/step - loss: 2.6180 - accuracy: 0.8588 - val_loss: 2.8111 - val_accuracy: 0.7852\n",
            "Epoch 40/100\n",
            "96/96 [==============================] - 54s 567ms/step - loss: 2.5602 - accuracy: 0.8758 - val_loss: 3.3544 - val_accuracy: 0.7481\n",
            "Epoch 41/100\n",
            "96/96 [==============================] - 54s 567ms/step - loss: 2.5852 - accuracy: 0.8510 - val_loss: 16.1522 - val_accuracy: 0.2370\n",
            "Epoch 42/100\n",
            "96/96 [==============================] - 54s 567ms/step - loss: 2.5705 - accuracy: 0.8601 - val_loss: 2.9474 - val_accuracy: 0.7333\n",
            "Epoch 43/100\n",
            "96/96 [==============================] - 54s 567ms/step - loss: 2.5616 - accuracy: 0.8641 - val_loss: 3.1776 - val_accuracy: 0.6074\n",
            "Epoch 44/100\n",
            "96/96 [==============================] - 54s 567ms/step - loss: 2.4706 - accuracy: 0.8928 - val_loss: 2.6804 - val_accuracy: 0.8000\n",
            "Epoch 45/100\n",
            "96/96 [==============================] - 54s 567ms/step - loss: 2.4848 - accuracy: 0.8732 - val_loss: 2.6163 - val_accuracy: 0.8222\n",
            "Epoch 46/100\n",
            "96/96 [==============================] - 54s 567ms/step - loss: 2.4478 - accuracy: 0.8837 - val_loss: 4.2514 - val_accuracy: 0.6963\n",
            "Epoch 47/100\n",
            "96/96 [==============================] - 54s 567ms/step - loss: 2.4758 - accuracy: 0.8667 - val_loss: 2.9274 - val_accuracy: 0.7037\n",
            "Epoch 48/100\n",
            "96/96 [==============================] - 54s 567ms/step - loss: 2.4160 - accuracy: 0.8863 - val_loss: 4.5273 - val_accuracy: 0.4593\n",
            "Epoch 49/100\n",
            "96/96 [==============================] - 54s 568ms/step - loss: 2.3987 - accuracy: 0.8837 - val_loss: 2.6940 - val_accuracy: 0.8222\n",
            "Epoch 50/100\n",
            "96/96 [==============================] - 54s 566ms/step - loss: 2.3444 - accuracy: 0.9007 - val_loss: 2.8959 - val_accuracy: 0.7407\n",
            "Epoch 51/100\n",
            "96/96 [==============================] - 54s 567ms/step - loss: 2.3157 - accuracy: 0.9072 - val_loss: 9.6755 - val_accuracy: 0.3259\n",
            "Epoch 52/100\n",
            "96/96 [==============================] - 54s 567ms/step - loss: 2.3274 - accuracy: 0.8993 - val_loss: 3.3348 - val_accuracy: 0.6667\n",
            "Epoch 53/100\n",
            "96/96 [==============================] - 54s 567ms/step - loss: 2.2974 - accuracy: 0.9007 - val_loss: 2.5310 - val_accuracy: 0.8370\n",
            "Epoch 54/100\n",
            "96/96 [==============================] - 54s 567ms/step - loss: 2.3225 - accuracy: 0.8941 - val_loss: 3.1746 - val_accuracy: 0.7037\n",
            "Epoch 55/100\n",
            "96/96 [==============================] - 54s 567ms/step - loss: 2.2956 - accuracy: 0.8941 - val_loss: 2.9245 - val_accuracy: 0.7481\n",
            "Epoch 56/100\n",
            "96/96 [==============================] - 54s 567ms/step - loss: 2.2304 - accuracy: 0.9150 - val_loss: 3.0873 - val_accuracy: 0.7556\n",
            "Epoch 57/100\n",
            "96/96 [==============================] - 54s 567ms/step - loss: 2.2292 - accuracy: 0.8980 - val_loss: 2.5439 - val_accuracy: 0.8296\n",
            "Epoch 58/100\n",
            "96/96 [==============================] - 54s 567ms/step - loss: 2.1933 - accuracy: 0.9150 - val_loss: 3.0187 - val_accuracy: 0.7185\n",
            "Epoch 59/100\n",
            "96/96 [==============================] - 54s 567ms/step - loss: 2.2299 - accuracy: 0.8967 - val_loss: 3.2231 - val_accuracy: 0.7185\n",
            "Epoch 60/100\n",
            "96/96 [==============================] - 54s 567ms/step - loss: 2.1997 - accuracy: 0.8941 - val_loss: 2.5319 - val_accuracy: 0.8148\n",
            "Epoch 61/100\n",
            "96/96 [==============================] - 54s 567ms/step - loss: 2.1793 - accuracy: 0.9059 - val_loss: 2.8457 - val_accuracy: 0.7481\n",
            "Epoch 62/100\n",
            "96/96 [==============================] - 54s 568ms/step - loss: 2.1198 - accuracy: 0.9333 - val_loss: 2.6651 - val_accuracy: 0.8000\n",
            "Epoch 63/100\n",
            "96/96 [==============================] - 54s 567ms/step - loss: 2.0781 - accuracy: 0.9346 - val_loss: 2.3841 - val_accuracy: 0.8222\n",
            "Epoch 64/100\n",
            "96/96 [==============================] - 54s 567ms/step - loss: 2.0521 - accuracy: 0.9451 - val_loss: 2.8410 - val_accuracy: 0.7333\n",
            "Epoch 65/100\n",
            "96/96 [==============================] - 54s 568ms/step - loss: 2.1241 - accuracy: 0.9111 - val_loss: 2.6159 - val_accuracy: 0.7556\n",
            "Epoch 66/100\n",
            "96/96 [==============================] - 54s 568ms/step - loss: 2.0698 - accuracy: 0.9268 - val_loss: 3.2306 - val_accuracy: 0.6519\n",
            "Epoch 67/100\n",
            "96/96 [==============================] - 54s 567ms/step - loss: 2.0287 - accuracy: 0.9242 - val_loss: 2.5969 - val_accuracy: 0.7778\n",
            "Epoch 68/100\n",
            "96/96 [==============================] - 54s 568ms/step - loss: 1.9827 - accuracy: 0.9346 - val_loss: 2.4638 - val_accuracy: 0.8000\n",
            "Epoch 69/100\n",
            "96/96 [==============================] - 55s 568ms/step - loss: 1.9991 - accuracy: 0.9255 - val_loss: 2.8099 - val_accuracy: 0.7407\n",
            "Epoch 70/100\n",
            "96/96 [==============================] - 55s 568ms/step - loss: 2.0002 - accuracy: 0.9294 - val_loss: 5.3825 - val_accuracy: 0.4000\n",
            "Epoch 71/100\n",
            "96/96 [==============================] - 54s 568ms/step - loss: 1.9771 - accuracy: 0.9255 - val_loss: 2.6512 - val_accuracy: 0.6815\n",
            "Epoch 72/100\n",
            "96/96 [==============================] - 54s 567ms/step - loss: 1.9980 - accuracy: 0.9216 - val_loss: 2.3367 - val_accuracy: 0.7778\n",
            "Epoch 73/100\n",
            "96/96 [==============================] - 54s 567ms/step - loss: 1.9150 - accuracy: 0.9503 - val_loss: 2.3503 - val_accuracy: 0.8370\n",
            "Epoch 74/100\n",
            "96/96 [==============================] - 54s 567ms/step - loss: 1.8952 - accuracy: 0.9346 - val_loss: 3.3207 - val_accuracy: 0.5852\n",
            "Epoch 75/100\n",
            "96/96 [==============================] - 54s 567ms/step - loss: 1.8786 - accuracy: 0.9490 - val_loss: 2.9996 - val_accuracy: 0.6148\n",
            "Epoch 76/100\n",
            "96/96 [==============================] - 54s 567ms/step - loss: 1.8567 - accuracy: 0.9529 - val_loss: 2.6833 - val_accuracy: 0.7185\n",
            "Epoch 77/100\n",
            "96/96 [==============================] - 54s 567ms/step - loss: 1.8697 - accuracy: 0.9477 - val_loss: 3.5840 - val_accuracy: 0.7111\n",
            "Epoch 78/100\n",
            "96/96 [==============================] - 54s 567ms/step - loss: 1.8277 - accuracy: 0.9503 - val_loss: 2.4022 - val_accuracy: 0.7556\n",
            "Epoch 79/100\n",
            "96/96 [==============================] - 54s 567ms/step - loss: 1.8123 - accuracy: 0.9529 - val_loss: 3.1787 - val_accuracy: 0.7037\n",
            "Epoch 80/100\n",
            "96/96 [==============================] - 54s 568ms/step - loss: 1.8168 - accuracy: 0.9425 - val_loss: 2.2639 - val_accuracy: 0.8000\n",
            "Epoch 81/100\n",
            "96/96 [==============================] - 54s 567ms/step - loss: 1.8260 - accuracy: 0.9399 - val_loss: 2.9603 - val_accuracy: 0.6370\n",
            "Epoch 82/100\n",
            "96/96 [==============================] - 54s 567ms/step - loss: 1.7519 - accuracy: 0.9569 - val_loss: 7.5835 - val_accuracy: 0.4593\n",
            "Epoch 83/100\n",
            "96/96 [==============================] - 54s 567ms/step - loss: 1.7318 - accuracy: 0.9582 - val_loss: 2.3827 - val_accuracy: 0.7704\n",
            "Epoch 84/100\n",
            "96/96 [==============================] - 54s 568ms/step - loss: 1.7494 - accuracy: 0.9490 - val_loss: 2.3029 - val_accuracy: 0.7630\n",
            "Epoch 85/100\n",
            "96/96 [==============================] - 54s 568ms/step - loss: 1.7234 - accuracy: 0.9464 - val_loss: 2.8760 - val_accuracy: 0.6741\n",
            "Epoch 86/100\n",
            "96/96 [==============================] - 54s 568ms/step - loss: 1.6990 - accuracy: 0.9542 - val_loss: 6.9409 - val_accuracy: 0.2222\n",
            "Epoch 87/100\n",
            "96/96 [==============================] - 54s 567ms/step - loss: 1.7200 - accuracy: 0.9438 - val_loss: 2.2201 - val_accuracy: 0.7778\n",
            "Epoch 88/100\n",
            "96/96 [==============================] - 54s 568ms/step - loss: 1.7592 - accuracy: 0.9294 - val_loss: 3.2321 - val_accuracy: 0.6741\n",
            "Epoch 89/100\n",
            "96/96 [==============================] - 54s 567ms/step - loss: 1.6840 - accuracy: 0.9425 - val_loss: 8.2188 - val_accuracy: 0.3481\n",
            "Epoch 90/100\n",
            "96/96 [==============================] - 54s 567ms/step - loss: 1.6527 - accuracy: 0.9595 - val_loss: 2.3006 - val_accuracy: 0.7926\n",
            "Epoch 91/100\n",
            "96/96 [==============================] - 54s 567ms/step - loss: 1.6496 - accuracy: 0.9438 - val_loss: 3.3036 - val_accuracy: 0.5926\n",
            "Epoch 92/100\n",
            "96/96 [==============================] - 54s 567ms/step - loss: 1.6466 - accuracy: 0.9490 - val_loss: 2.1384 - val_accuracy: 0.8370\n",
            "Epoch 93/100\n",
            "96/96 [==============================] - 54s 568ms/step - loss: 1.6091 - accuracy: 0.9516 - val_loss: 2.1108 - val_accuracy: 0.8222\n",
            "Epoch 94/100\n",
            "96/96 [==============================] - 54s 567ms/step - loss: 1.6152 - accuracy: 0.9608 - val_loss: 3.2376 - val_accuracy: 0.6815\n",
            "Epoch 95/100\n",
            "96/96 [==============================] - 54s 567ms/step - loss: 1.5982 - accuracy: 0.9556 - val_loss: 4.1649 - val_accuracy: 0.5704\n",
            "Epoch 96/100\n",
            "96/96 [==============================] - 54s 567ms/step - loss: 1.6193 - accuracy: 0.9412 - val_loss: 6.9276 - val_accuracy: 0.5926\n",
            "Epoch 97/100\n",
            "96/96 [==============================] - 54s 567ms/step - loss: 1.6215 - accuracy: 0.9294 - val_loss: 2.0212 - val_accuracy: 0.8148\n",
            "Epoch 98/100\n",
            "96/96 [==============================] - 54s 567ms/step - loss: 1.5611 - accuracy: 0.9542 - val_loss: 1.9545 - val_accuracy: 0.8519\n",
            "Epoch 99/100\n",
            "96/96 [==============================] - 54s 567ms/step - loss: 1.5611 - accuracy: 0.9503 - val_loss: 4.2172 - val_accuracy: 0.5407\n",
            "Epoch 100/100\n",
            "96/96 [==============================] - 54s 567ms/step - loss: 1.5396 - accuracy: 0.9660 - val_loss: 1.9952 - val_accuracy: 0.8148\n"
          ]
        },
        {
          "output_type": "execute_result",
          "data": {
            "text/plain": [
              "<keras.callbacks.History at 0x7fb147fc7990>"
            ]
          },
          "metadata": {},
          "execution_count": 14
        }
      ],
      "source": [
        "\n",
        "my_model.fit(X_train, y_train,epochs=100,batch_size=8,validation_split=0.15)\n"
      ]
    },
    {
      "cell_type": "code",
      "execution_count": null,
      "metadata": {
        "id": "bnewF0BcoRCw",
        "colab": {
          "base_uri": "https://localhost:8080/"
        },
        "outputId": "0951ff5f-1e1c-48bb-d6cc-6e3acbdecc40"
      },
      "outputs": [
        {
          "output_type": "stream",
          "name": "stdout",
          "text": [
            "8/8 [==============================] - 17s 558ms/step - loss: 1.8920 - accuracy: 0.8489\n"
          ]
        }
      ],
      "source": [
        "mse_test = my_model.evaluate(X_test, y_test)"
      ]
    },
    {
      "cell_type": "code",
      "source": [
        "fdel my_model"
      ],
      "metadata": {
        "id": "_s_Ztp32jrNY"
      },
      "execution_count": null,
      "outputs": []
    },
    {
      "cell_type": "code",
      "source": [],
      "metadata": {
        "id": "jW40AWFdHEWP"
      },
      "execution_count": null,
      "outputs": []
    }
  ],
  "metadata": {
    "accelerator": "GPU",
    "colab": {
      "machine_shape": "hm",
      "provenance": []
    },
    "gpuClass": "standard",
    "kernelspec": {
      "display_name": "Python 3",
      "name": "python3"
    },
    "language_info": {
      "name": "python"
    }
  },
  "nbformat": 4,
  "nbformat_minor": 0
}